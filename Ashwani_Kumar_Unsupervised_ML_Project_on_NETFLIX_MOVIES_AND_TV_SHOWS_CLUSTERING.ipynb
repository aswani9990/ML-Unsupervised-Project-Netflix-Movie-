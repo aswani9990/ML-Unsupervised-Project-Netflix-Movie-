{
  "cells": [
    {
      "cell_type": "markdown",
      "metadata": {
        "id": "view-in-github",
        "colab_type": "text"
      },
      "source": [
        "<a href=\"https://colab.research.google.com/github/aswani9990/ML-Unsupervised-Project-Netflix-Movie-And-TV-Shows/blob/main/Ashwani_Kumar_Unsupervised_ML_Project_on_NETFLIX_MOVIES_AND_TV_SHOWS_CLUSTERING.ipynb\" target=\"_parent\"><img src=\"https://colab.research.google.com/assets/colab-badge.svg\" alt=\"Open In Colab\"/></a>"
      ]
    },
    {
      "cell_type": "markdown",
      "source": [
        "## **Project Name** -NETFLIX MOVIES AND TV SHOWS CLUSTERING"
      ],
      "metadata": {
        "id": "Y7ed7HVBW3aH"
      }
    },
    {
      "cell_type": "markdown",
      "source": [
        "![download.jpg](data:image/jpeg;base64,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)"
      ],
      "metadata": {
        "id": "C8F3Iv0rg7si"
      }
    },
    {
      "cell_type": "markdown",
      "metadata": {
        "id": "qhkZ57Ro_njU"
      },
      "source": [
        "**Project Type** - Unsupervised \n",
        "\n",
        "Contribution - Team\n",
        "\n",
        "Team Member 1 - Ashwani Kumar\n",
        "\n",
        "Team Member 2 - Shahbaz Khan\n",
        "\n",
        "Team Member 3 - Abhishek "
      ]
    },
    {
      "cell_type": "markdown",
      "source": [
        "# **Project Summary -**"
      ],
      "metadata": {
        "id": "UpKJ3XTZXZHd"
      }
    },
    {
      "cell_type": "markdown",
      "source": [
        "Write the summary here within 500-600 words."
      ],
      "metadata": {
        "id": "IFhsCJ_lXfIc"
      }
    },
    {
      "cell_type": "markdown",
      "source": [
        "# **GitHub Link -**"
      ],
      "metadata": {
        "id": "fTyg3kYfXoyk"
      }
    },
    {
      "cell_type": "markdown",
      "source": [
        "Provide your GitHub Link here- https://github.com/aswani9990/ML-Unsupervised-Project-Netflix-Movie-And-TV-Shows"
      ],
      "metadata": {
        "id": "FA7JVNOhXuVZ"
      }
    },
    {
      "cell_type": "markdown",
      "metadata": {
        "id": "LGcl5Bv9ed6u"
      },
      "source": [
        "# **Problem Statement**"
      ]
    },
    {
      "cell_type": "markdown",
      "metadata": {
        "id": "8M5kyFaVjzXk"
      },
      "source": [
        "This dataset consists of tv shows and movies available on Netflix as of 2019. The dataset is collected from Flixable which is a third-party Netflix search engine.\n",
        "\n",
        "In 2018, they released an interesting report which shows that the number of TV shows on Netflix has nearly tripled since 2010. The streaming service’s number of movies has decreased by more than 2,000 titles since 2010, while its number of TV shows has nearly tripled. It will be interesting to explore what all other insights can be obtained from the same dataset.\n",
        "\n",
        "Integrating this dataset with other external datasets such as IMDB ratings, rotten tomatoes can also provide many interesting findings."
      ]
    },
    {
      "cell_type": "markdown",
      "metadata": {
        "id": "tLx5cJO8hzb1"
      },
      "source": [
        "## <b>Task\n",
        " <br>In this  project, you are required to do </b>\n",
        "1. Exploratory Data Analysis \n",
        "\n",
        "2. Understanding what type content is available in different countries\n",
        "\n",
        "3. Is Netflix has increasingly focusing on TV rather than movies in recent years.\n",
        "4. Clustering similar content by matching text-based features\n",
        "\n"
      ]
    },
    {
      "cell_type": "markdown",
      "metadata": {
        "id": "AzGDqdC4fZ-b"
      },
      "source": [
        "# **Attribute Information**"
      ]
    },
    {
      "cell_type": "markdown",
      "metadata": {
        "id": "jhfLYargscGV"
      },
      "source": [
        "1. show_id : Unique ID for every Movie / Tv Show\n",
        "\n",
        "2. type : Identifier - A Movie or TV Show\n",
        "\n",
        "3. title : Title of the Movie / Tv Show\n",
        "\n",
        "4. director : Director of the Movie\n",
        "\n",
        "5. cast : Actors involved in the movie / show\n",
        "\n",
        "6. country : Country where the movie / show was produced\n",
        "\n",
        "7. date_added : Date it was added on Netflix\n",
        "\n",
        "8. release_year : Actual Releaseyear of the movie / show\n",
        "\n",
        "9. rating : TV Rating of the movie / show\n",
        "\n",
        "10. duration : Total Duration - in minutes or number of seasons\n",
        "\n",
        "11. listed_in : Genere\n",
        "\n",
        "12. description: The Summary description"
      ]
    },
    {
      "cell_type": "markdown",
      "source": [
        "**Some Steps Involved in our Project**\n",
        "\n"
      ],
      "metadata": {
        "id": "nGZGrxPJiW2w"
      }
    },
    {
      "cell_type": "markdown",
      "metadata": {
        "id": "39MnTWBGiXU4"
      },
      "source": [
        "### <font size=\"+2\" color='#a30762'><b><i><u>Steps</u>\n",
        "* <font size=\"+2\" color='#053c96'> <b>Importing Libraries\n",
        "* <font size=\"+2\" color='#053c96'> <b>Import Data\n",
        "* <font size=\"+2\" color='#053c96'> <b>Data Summary\n",
        "* <font size=\"+2\" color='#053c96'> <b>Data Visualization\n",
        "* <font size=\"+2\" color='#053c96'> <b>Data Cleaning ( EDA )\n",
        "* <font size=\"+2\" color='#053c96'> <b>Feature Selection\n",
        "* <font size=\"+2\" color='#053c96'> <b> Model Selection\n",
        "* <font size=\"+2\" color='#053c96'><b> Hyperparameter Tuning\n",
        "* <font size=\"+2\" color='#053c96'><b>Conclusion\n"
      ]
    },
    {
      "cell_type": "markdown",
      "source": [
        "# **Let's Begin !**"
      ],
      "metadata": {
        "id": "PRV314EMX-Tv"
      }
    },
    {
      "cell_type": "markdown",
      "source": [
        "1. Know Your Data"
      ],
      "metadata": {
        "id": "cminRLcwYKuH"
      }
    },
    {
      "cell_type": "markdown",
      "metadata": {
        "id": "v8SG5UI6eN3P"
      },
      "source": [
        "##  <font size=\"+2\" color='#947318'> <b>1. Importing Libraries"
      ]
    },
    {
      "cell_type": "code",
      "execution_count": null,
      "metadata": {
        "id": "K0K-vDuAZaKl"
      },
      "outputs": [],
      "source": [
        "import numpy as np\n",
        "import pandas as pd\n",
        "import matplotlib.pyplot as plt\n",
        "import seaborn as sns\n",
        "import missingno as msno\n",
        "import matplotlib.cm as cm\n",
        "\n",
        "from os import path\n",
        "from PIL import Image\n",
        "from wordcloud import WordCloud, STOPWORDS, ImageColorGenerator\n",
        "\n",
        "\n",
        "#for nlp\n",
        "from sklearn import preprocessing\n",
        "from sklearn.feature_extraction.text import CountVectorizer, TfidfVectorizer\n",
        "from sklearn.model_selection import train_test_split, KFold\n",
        "from nltk.corpus import stopwords\n",
        "from nltk.stem.snowball import SnowballStemmer\n",
        "\n",
        "from sklearn.metrics import silhouette_score\n",
        "from sklearn.cluster import KMeans\n",
        "from sklearn.metrics import silhouette_samples\n",
        "import scipy.cluster.hierarchy as sch\n",
        "\n",
        "\n",
        "import warnings\n",
        "warnings.filterwarnings('ignore')"
      ]
    },
    {
      "cell_type": "markdown",
      "metadata": {
        "id": "YDYcGc_zeZ85"
      },
      "source": [
        "\n",
        "##  <font size=\"+2\" color='#947318'> <b>2. Import Data"
      ]
    },
    {
      "cell_type": "code",
      "source": [
        "from google.colab import drive\n",
        "drive.mount('/content/drive')"
      ],
      "metadata": {
        "id": "1Zqy7aLJaOz1"
      },
      "execution_count": null,
      "outputs": []
    },
    {
      "cell_type": "markdown",
      "source": [
        "# **Preliminary Analysis**"
      ],
      "metadata": {
        "id": "uDheLK7ZYhB4"
      }
    },
    {
      "cell_type": "markdown",
      "source": [
        "Dataset Loading"
      ],
      "metadata": {
        "id": "ft61Dk0jYmZi"
      }
    },
    {
      "cell_type": "code",
      "execution_count": null,
      "metadata": {
        "id": "xdnjswPPZaH9"
      },
      "outputs": [],
      "source": [
        "working_path = \"/content/drive/MyDrive/Ashwani ML Unsupervised Project on Netflix Movies and TV shows /NETFLIX MOVIES AND TV SHOWS CLUSTERING.csv\"\n",
        "df = pd.read_csv(working_path)"
      ]
    },
    {
      "cell_type": "markdown",
      "metadata": {
        "id": "3m2MrvRbegqG"
      },
      "source": [
        "\n",
        "##  <font size=\"+2\" color='#947318'> <b>3. Basic Data Exploration "
      ]
    },
    {
      "cell_type": "markdown",
      "metadata": {
        "id": "BPBuhT8tjL0b"
      },
      "source": [
        "### 3.1 df.head()"
      ]
    },
    {
      "cell_type": "code",
      "execution_count": null,
      "metadata": {
        "id": "uTON7i8cjMN-"
      },
      "outputs": [],
      "source": [
        "df.head()"
      ]
    },
    {
      "cell_type": "markdown",
      "metadata": {
        "id": "SS6SKQnMjMjT"
      },
      "source": [
        "### 3.2 df.shape"
      ]
    },
    {
      "cell_type": "code",
      "execution_count": null,
      "metadata": {
        "id": "2Gd9ptzojM-h"
      },
      "outputs": [],
      "source": [
        "df.shape"
      ]
    },
    {
      "cell_type": "markdown",
      "metadata": {
        "id": "ztR9py-djVKg"
      },
      "source": [
        "### 3.3 df.info()"
      ]
    },
    {
      "cell_type": "code",
      "execution_count": null,
      "metadata": {
        "id": "3yfJIjE_jVt7"
      },
      "outputs": [],
      "source": [
        "df.info(memory_usage = 'deep' )"
      ]
    },
    {
      "cell_type": "markdown",
      "metadata": {
        "id": "pfcv207LEF9b"
      },
      "source": [
        "### 3.4 df.columns"
      ]
    },
    {
      "cell_type": "code",
      "execution_count": null,
      "metadata": {
        "id": "iNAKYTAiEJHC"
      },
      "outputs": [],
      "source": [
        "df.columns"
      ]
    },
    {
      "cell_type": "markdown",
      "metadata": {
        "id": "GluKEjYXjwCK"
      },
      "source": [
        "### 3.5 Defining *DataInfoAll*"
      ]
    },
    {
      "cell_type": "code",
      "execution_count": null,
      "metadata": {
        "id": "M5aez21LaGt5"
      },
      "outputs": [],
      "source": [
        "def DataInfoAll(df):\n",
        "    print(f\"Dataset Shape: {df.shape}\")\n",
        "    print(\"-\"*125)\n",
        "    summary = pd.DataFrame(df.dtypes,columns=['dtypes'])\n",
        "    summary = summary.reset_index()\n",
        "    summary['Name'] = summary['index']\n",
        "    summary = summary[['Name','dtypes']]\n",
        "    summary['Missing'] = df.isnull().sum().values    \n",
        "    summary['Uniques'] = df.nunique().values\n",
        "    summary['First Value'] = df.iloc[0].values\n",
        "    summary['Second Value'] = df.iloc[1].values\n",
        "    return summary"
      ]
    },
    {
      "cell_type": "code",
      "execution_count": null,
      "metadata": {
        "id": "dCOZpbjqaSHR"
      },
      "outputs": [],
      "source": [
        "DataInfoAll(df)"
      ]
    },
    {
      "cell_type": "markdown",
      "metadata": {
        "id": "LZkkUCPUgm2c"
      },
      "source": [
        "### 3.6  Checking duplicate values"
      ]
    },
    {
      "cell_type": "code",
      "execution_count": null,
      "metadata": {
        "id": "p4JGeNBpt3VF"
      },
      "outputs": [],
      "source": [
        "df_duplicate = df[df.duplicated()]\n",
        "print(\"Let's print all the duplicated rows as a dataframe\")\n",
        "df_duplicate"
      ]
    },
    {
      "cell_type": "markdown",
      "metadata": {
        "id": "u_Jt-JhOua2e"
      },
      "source": [
        "* No duplicate values present in this dataset."
      ]
    },
    {
      "cell_type": "markdown",
      "metadata": {
        "id": "2G4iJNZQhT5z"
      },
      "source": [
        "##  <font size=\"+2\" color='#154085'> <b>4. Data Cleaning & Data Visualization"
      ]
    },
    {
      "cell_type": "markdown",
      "metadata": {
        "id": "awWjaI-zer_Y"
      },
      "source": [
        "### 4.1 Checking NaN values"
      ]
    },
    {
      "cell_type": "code",
      "execution_count": null,
      "metadata": {
        "id": "hrZeAmZ4estm"
      },
      "outputs": [],
      "source": [
        "NaN_Checker = pd.DataFrame({\"No Of Total Values\": df.shape[0] , \"No of NaN values\": df.isnull().sum(),\n",
        "                    \"%age of NaN values\" : round((df.isnull().sum()/ df.shape[0])*100 , 2) })\n",
        "NaN_Checker.sort_values(\"No of NaN values\" , ascending = False)"
      ]
    },
    {
      "cell_type": "markdown",
      "metadata": {
        "id": "UPRpFufPesDH"
      },
      "source": [
        "* **director** *column has highest NaN values 30.7% data is missing*\n",
        "* **cast** *column has 9% NaN values*\n",
        "* **country , date_added , rating** this columns also containing missing values\n"
      ]
    },
    {
      "cell_type": "markdown",
      "metadata": {
        "id": "s6R7DGvUMV7L"
      },
      "source": [
        "* Ploting the null values present in the dataset\n"
      ]
    },
    {
      "cell_type": "code",
      "execution_count": null,
      "metadata": {
        "id": "td23uwLsBObe"
      },
      "outputs": [],
      "source": [
        "plot_nan = df.isna()\n",
        "plot_nan.head(2)"
      ]
    },
    {
      "cell_type": "code",
      "execution_count": null,
      "metadata": {
        "id": "qPWy2mZpCPA5"
      },
      "outputs": [],
      "source": [
        "plt.figure( figsize = (10 , 5))\n",
        "sns.heatmap(plot_nan)"
      ]
    },
    {
      "cell_type": "markdown",
      "metadata": {
        "id": "w03lW_pF_Mba"
      },
      "source": [
        "* Using barplot to check the no of NaN values present in this dataset"
      ]
    },
    {
      "cell_type": "code",
      "execution_count": null,
      "metadata": {
        "id": "Vs7GCjBLNDxj"
      },
      "outputs": [],
      "source": [
        "# null value distribution\n",
        "null_counts = df.isnull().sum()/len(df)\n",
        "plt.figure(figsize=(16,8))\n",
        "plt.xticks(np.arange(len(null_counts)),null_counts.index,rotation='vertical')\n",
        "plt.ylabel('fraction of rows with missing data')\n",
        "plt.bar(np.arange(len(null_counts)),null_counts)"
      ]
    },
    {
      "cell_type": "markdown",
      "metadata": {
        "id": "r9UCfYlPMOI7"
      },
      "source": [
        "director and cast contains large number of null values so we will drop it\n"
      ]
    },
    {
      "cell_type": "markdown",
      "metadata": {
        "id": "mCwjlTF0_6NZ"
      },
      "source": [
        "### 4.2 Dropping irrelevent features "
      ]
    },
    {
      "cell_type": "code",
      "execution_count": null,
      "metadata": {
        "id": "D2CyXchTMKNw"
      },
      "outputs": [],
      "source": [
        "df.drop(['director','cast'],axis=1, inplace=True)"
      ]
    },
    {
      "cell_type": "markdown",
      "metadata": {
        "id": "XVYfhgGHADty"
      },
      "source": [
        "### 4.3 Looking NaN values on data_added "
      ]
    },
    {
      "cell_type": "code",
      "execution_count": null,
      "metadata": {
        "id": "HTBJ-m3G_4O7"
      },
      "outputs": [],
      "source": [
        "data_added_NaN = df[df['date_added'].isna()]\n",
        "data_added_NaN.head(2)"
      ]
    },
    {
      "cell_type": "code",
      "execution_count": null,
      "metadata": {
        "id": "hHYs_yHNAPMM"
      },
      "outputs": [],
      "source": [
        "data_added_NaN.shape"
      ]
    },
    {
      "cell_type": "markdown",
      "metadata": {
        "id": "vNlw7luaAbwR"
      },
      "source": [
        "* There are only 10 observations which are containing NaN values in *data_added* column"
      ]
    },
    {
      "cell_type": "code",
      "execution_count": null,
      "metadata": {
        "id": "RcggwicpAjkK"
      },
      "outputs": [],
      "source": [
        "print(f\"Before dropping the NaN values from date_added the shape was {df.shape}\")\n",
        "df.dropna(subset = [ 'date_added' ], inplace = True)\n",
        "print(f\"After dropping the NaN values from date_added now the shape is {df.shape}\")"
      ]
    },
    {
      "cell_type": "markdown",
      "metadata": {
        "id": "tizUzEa9r1Ue"
      },
      "source": [
        "### 4.4 Looking for unique values"
      ]
    },
    {
      "cell_type": "code",
      "execution_count": null,
      "metadata": {
        "id": "xeTMsiHgMKK-"
      },
      "outputs": [],
      "source": [
        "df.nunique()"
      ]
    },
    {
      "cell_type": "markdown",
      "metadata": {
        "id": "Q2fWCovEh-sn"
      },
      "source": [
        "* Unique values of *type* column"
      ]
    },
    {
      "cell_type": "code",
      "execution_count": null,
      "metadata": {
        "id": "kV5mWy_YglBs"
      },
      "outputs": [],
      "source": [
        "df['type'].unique()"
      ]
    },
    {
      "cell_type": "markdown",
      "metadata": {
        "id": "hqV29zqQgWGe"
      },
      "source": [
        "* ### <b><i>4.5 Production Growth </b> based on type of the content & release_year  "
      ]
    },
    {
      "cell_type": "code",
      "execution_count": null,
      "metadata": {
        "id": "UuqzmvSWgeFV"
      },
      "outputs": [],
      "source": [
        "yearly_movies=df[df.type =='TV Show']['release_year'].value_counts().sort_index(ascending=False).head(15)\n",
        "yearly_shows=df[df.type =='Movie']['release_year'].value_counts().sort_index(ascending=False).head(15)\n",
        "total_content=df['release_year'].value_counts().sort_index(ascending=False).head(15)"
      ]
    },
    {
      "cell_type": "code",
      "execution_count": null,
      "metadata": {
        "id": "g-M5WVLYD-_o"
      },
      "outputs": [],
      "source": [
        "yearly_movies.head()"
      ]
    },
    {
      "cell_type": "code",
      "execution_count": null,
      "metadata": {
        "id": "YDYZsajpgWuh"
      },
      "outputs": [],
      "source": [
        "sns.set(font_scale=1.4)\n",
        "total_content.plot(figsize=(12, 6), linewidth=2.5, color='green',label=\"Total Content / year\")\n",
        "yearly_movies.plot(figsize=(12, 6), linewidth=2.5, color='maroon',label=\"Movies / year\",ms=3)\n",
        "yearly_shows.plot(figsize=(12, 6), linewidth=2.5, color='blue',label=\"TV Shows / year\")\n",
        "plt.xlabel(\"Years\", labelpad=15)\n",
        "plt.ylabel(\"Number\", labelpad=15)\n",
        "plt.legend()\n",
        "plt.title(\"Production Growth Yearly\", y=1.02, fontsize=22);"
      ]
    },
    {
      "cell_type": "markdown",
      "metadata": {
        "id": "ZTHw_7NBBzLR"
      },
      "source": [
        "* ### 4.6 **release_year**"
      ]
    },
    {
      "cell_type": "markdown",
      "metadata": {
        "id": "Pd9aoVDMCDtD"
      },
      "source": [
        "* #### 4.6.1 Let's see all unique values present in *release_year* "
      ]
    },
    {
      "cell_type": "code",
      "execution_count": null,
      "metadata": {
        "id": "47bsmNvSBziR"
      },
      "outputs": [],
      "source": [
        "df['release_year'].unique()"
      ]
    },
    {
      "cell_type": "markdown",
      "metadata": {
        "id": "aMYSaxAXCQeC"
      },
      "source": [
        "* #### 4.6.2 Checking the Datatype of *release_year* column"
      ]
    },
    {
      "cell_type": "code",
      "execution_count": null,
      "metadata": {
        "id": "l_m5h4yOCDIU"
      },
      "outputs": [],
      "source": [
        "type(df['release_year'][0])"
      ]
    },
    {
      "cell_type": "markdown",
      "metadata": {
        "id": "XFkG7dt8sKqJ"
      },
      "source": [
        "* #### 4.6.3 value_count is on release_year"
      ]
    },
    {
      "cell_type": "code",
      "execution_count": null,
      "metadata": {
        "id": "XUlmQPwyMKH0"
      },
      "outputs": [],
      "source": [
        "df['release_year'].value_counts().to_frame().T"
      ]
    },
    {
      "cell_type": "markdown",
      "metadata": {
        "id": "wDktqPrkhbuz"
      },
      "source": [
        "* #### 4.6.4 Checking **outliers** on *release_year* column"
      ]
    },
    {
      "cell_type": "code",
      "execution_count": null,
      "metadata": {
        "id": "bUIrU1h7haVE"
      },
      "outputs": [],
      "source": [
        "sns.boxplot(df.release_year)"
      ]
    },
    {
      "cell_type": "markdown",
      "metadata": {
        "id": "8D0Zp6XFhGk0"
      },
      "source": [
        "* As we have seen earlier **before 2014 the production growth for Movies & Tv Shows were very less** ,that's why it's showing those values*(release_year less than 2009)* as outliers "
      ]
    },
    {
      "cell_type": "code",
      "execution_count": null,
      "metadata": {
        "id": "MhgL5-3AGChb"
      },
      "outputs": [],
      "source": [
        "type(df.release_year[0])"
      ]
    },
    {
      "cell_type": "markdown",
      "metadata": {
        "id": "IuEIIdSXE6KL"
      },
      "source": [
        "* #### 4.6.5 Replacing outliers with mean value"
      ]
    },
    {
      "cell_type": "code",
      "execution_count": null,
      "metadata": {
        "id": "3amjB1cbFCYA"
      },
      "outputs": [],
      "source": [
        "release_year_Q1 = df.release_year.quantile(0.25)\n",
        "release_year_Q3 = df.release_year.quantile(0.75)\n",
        "release_year_IQR = release_year_Q3 - release_year_Q1\n",
        "print(f'release_year_Q1 = {release_year_Q1}\\nrelease_year_Q3 = {release_year_Q3}\\nrelease_year_IQR = {release_year_IQR}')"
      ]
    },
    {
      "cell_type": "markdown",
      "metadata": {
        "id": "PCYw4IayIuhn"
      },
      "source": [
        "* we don't have have any release_year which is greater than 2018"
      ]
    },
    {
      "cell_type": "code",
      "execution_count": null,
      "metadata": {
        "id": "EGncPlMsF7pk"
      },
      "outputs": [],
      "source": [
        "release_year_outliers = df[(df.release_year < (release_year_Q1 - 1.5 * release_year_IQR)) |\n",
        "                           ( df.release_year > (release_year_Q3 + 1.5 * release_year_IQR)) ]                                            "
      ]
    },
    {
      "cell_type": "code",
      "execution_count": null,
      "metadata": {
        "id": "UTGam4hvF8VU"
      },
      "outputs": [],
      "source": [
        "release_year_outliers"
      ]
    },
    {
      "cell_type": "code",
      "execution_count": null,
      "metadata": {
        "id": "_dq2EMkLIWeG"
      },
      "outputs": [],
      "source": [
        "# 15 percentile value is 2009\n",
        "df[\"release_year\"] = np.where(df[\"release_year\"] <2009, df.release_year.mean(),df['release_year'])"
      ]
    },
    {
      "cell_type": "markdown",
      "metadata": {
        "id": "1ZNTpaC6JOJ5"
      },
      "source": [
        "* #### 4.6.6 Boxplot for release_year "
      ]
    },
    {
      "cell_type": "code",
      "execution_count": null,
      "metadata": {
        "id": "IFg10ipuJom3"
      },
      "outputs": [],
      "source": [
        "df.release_year.describe()"
      ]
    },
    {
      "cell_type": "code",
      "execution_count": null,
      "metadata": {
        "id": "buvaXtzaJZEP"
      },
      "outputs": [],
      "source": [
        "sns.boxplot(df.release_year)"
      ]
    },
    {
      "cell_type": "code",
      "execution_count": null,
      "metadata": {
        "id": "a8PHSDKW0avw"
      },
      "outputs": [],
      "source": [
        "print(f\"Datatype of release_year = \",type(df.release_year.iloc[0]))\n",
        "df.release_year = df.release_year.astype(\"int64\")\n",
        "print(f\"Datatype of release_year = \",type(df.release_year.iloc[0]))"
      ]
    },
    {
      "cell_type": "markdown",
      "metadata": {
        "id": "mbkR07wckfJx"
      },
      "source": [
        "* ### <b>4.7 Title "
      ]
    },
    {
      "cell_type": "markdown",
      "metadata": {
        "id": "r6gZPHk7kqJE"
      },
      "source": [
        "* #### 4.7.1 No of unique title present in title column"
      ]
    },
    {
      "cell_type": "code",
      "execution_count": null,
      "metadata": {
        "id": "YyvvBrNhkfm3"
      },
      "outputs": [],
      "source": [
        "df.title.nunique()"
      ]
    },
    {
      "cell_type": "code",
      "execution_count": null,
      "metadata": {
        "id": "8cD4Y3ltk3Fe"
      },
      "outputs": [],
      "source": [
        "df.shape[0]"
      ]
    },
    {
      "cell_type": "markdown",
      "metadata": {
        "id": "UAYzjbdHk2Z_"
      },
      "source": [
        "* All the values present in Title are unique"
      ]
    },
    {
      "cell_type": "markdown",
      "metadata": {
        "id": "o0O-Qrh5lMay"
      },
      "source": [
        "* #### 4.7.2 Most occured word in *Title* ??"
      ]
    },
    {
      "cell_type": "code",
      "execution_count": null,
      "metadata": {
        "id": "Wvhm_gZ1lQns"
      },
      "outputs": [],
      "source": [
        "#subsetting df\n",
        "df_wordcloud = df['title']\n",
        "text = \" \".join(word for word in df_wordcloud)\n",
        "# Create stopword list:\n",
        "stopwords = set(STOPWORDS)\n",
        "# Generate a word cloud image\n",
        "wordcloud = WordCloud(stopwords=stopwords, background_color=\"white\").generate(text)\n",
        "# Display the generated image:\n",
        "# the matplotlib way:\n",
        "plt.imshow(wordcloud, interpolation='bilinear')\n",
        "plt.axis(\"off\")\n",
        "plt.show()"
      ]
    },
    {
      "cell_type": "markdown",
      "metadata": {
        "id": "d5-vYrgxpkQp"
      },
      "source": [
        "##### **Inference:** \n",
        "<br>It seems like words like \"Love\", \"Man\", \"World\", \"Story\" , \"Christmas\" are very common in titles.\n",
        "\n",
        "I have suprised to see \"Christmas\" ocuured so many time .\n",
        "The reason maybe those movies released on the month of december, but I don't have any information about the release month of movies that's why I am not able to check my hypothesis.\n"
      ]
    },
    {
      "cell_type": "markdown",
      "metadata": {
        "id": "VyPWlauaTDEp"
      },
      "source": [
        "### 4.8 **Countries** producing most number of contents"
      ]
    },
    {
      "cell_type": "markdown",
      "metadata": {
        "id": "l7mGPykJTL1_"
      },
      "source": [
        "* #### 4.8.1 Checking no of unique values present in Country ?"
      ]
    },
    {
      "cell_type": "code",
      "execution_count": null,
      "metadata": {
        "id": "bkFQgMQjTXmQ"
      },
      "outputs": [],
      "source": [
        "df.country.nunique()"
      ]
    },
    {
      "cell_type": "markdown",
      "metadata": {
        "id": "vAR-E6CKT6Vl"
      },
      "source": [
        "* As you can see there are total 681 countries which are produce movies / tv shows"
      ]
    },
    {
      "cell_type": "markdown",
      "metadata": {
        "id": "Ek5aCKe4U0rT"
      },
      "source": [
        "* #### 4.8.2 Using *value_counts()*"
      ]
    },
    {
      "cell_type": "code",
      "execution_count": null,
      "metadata": {
        "id": "t6dnPkLAVwaN"
      },
      "outputs": [],
      "source": [
        "df.country.value_counts().rename_axis('Country').reset_index(name='counts').T"
      ]
    },
    {
      "cell_type": "markdown",
      "metadata": {
        "id": "mcyYQrDnUUTy"
      },
      "source": [
        "* #### 4.8.2 Check no of NaN values"
      ]
    },
    {
      "cell_type": "code",
      "execution_count": null,
      "metadata": {
        "id": "ssu21wqxUYl6"
      },
      "outputs": [],
      "source": [
        "df.country.isna().sum()"
      ]
    },
    {
      "cell_type": "markdown",
      "metadata": {
        "id": "3dfEPpZtUgiV"
      },
      "source": [
        "* Let's replace those NaN values with mode value"
      ]
    },
    {
      "cell_type": "code",
      "execution_count": null,
      "metadata": {
        "id": "kbbE1wUJWftC"
      },
      "outputs": [],
      "source": [
        "#mode value of country column\n",
        "df.country.mode()[0]"
      ]
    },
    {
      "cell_type": "code",
      "execution_count": null,
      "metadata": {
        "id": "coEdC5gJUlHh"
      },
      "outputs": [],
      "source": [
        "df.country[df.country.isna()] = df.country.mode()[0]"
      ]
    },
    {
      "cell_type": "code",
      "execution_count": null,
      "metadata": {
        "id": "O2WAxv8LWdJY"
      },
      "outputs": [],
      "source": [
        "df.country[df.country.isna()]"
      ]
    },
    {
      "cell_type": "code",
      "execution_count": null,
      "metadata": {
        "id": "-C5o6OorWZrH"
      },
      "outputs": [],
      "source": [
        "df.country.isna().sum()"
      ]
    },
    {
      "cell_type": "markdown",
      "metadata": {
        "id": "9smX8CwVWreZ"
      },
      "source": [
        "* Now there is no NaN values present"
      ]
    },
    {
      "cell_type": "markdown",
      "metadata": {
        "id": "_cHPAb0mXZmR"
      },
      "source": [
        "* #### 4.8.3 Looking for countries and number of netflix productions"
      ]
    },
    {
      "cell_type": "code",
      "execution_count": null,
      "metadata": {
        "id": "PB79-eXHXjK0"
      },
      "outputs": [],
      "source": [
        "country_list=[]\n",
        "tv_show=[]\n",
        "movies=[]\n",
        "for i in range(0,len(df)):\n",
        "  if isinstance(df['country'].iloc[i] , str):\n",
        "    split=df['country'].iloc[i].split(',')\n",
        "    for k in split:\n",
        "      country_list.append(k.strip())\n",
        "      if df['type'].iloc[i]=='TV Show':\n",
        "        tv_show.append(k.strip())\n",
        "      if df['type'].iloc[i]== 'Movie':\n",
        "        movies.append(k.strip())\n",
        "production_country=list(set([(i,country_list.count(i),tv_show.count(i),movies.count(i)) for i in country_list]))"
      ]
    },
    {
      "cell_type": "code",
      "execution_count": null,
      "metadata": {
        "id": "wmAZNhaRFb0M"
      },
      "outputs": [],
      "source": [
        "production_country[:5]"
      ]
    },
    {
      "cell_type": "markdown",
      "metadata": {
        "id": "lcPEGL1zXiv5"
      },
      "source": [
        "* #### 4.8.4 Creating a new DataFrame *country_df*"
      ]
    },
    {
      "cell_type": "code",
      "execution_count": null,
      "metadata": {
        "id": "Lf0huZJ9XZ_E"
      },
      "outputs": [],
      "source": [
        "country_df= pd.DataFrame(production_country,columns=['country','Productions','TV-Shows','Movies']) \n",
        "country_df=country_df.sort_values('Productions',ascending=False)\n",
        "country_df=country_df.reset_index()\n",
        "country_df=country_df.drop('index',axis=1)"
      ]
    },
    {
      "cell_type": "code",
      "execution_count": null,
      "metadata": {
        "id": "Y84tR2xpXzcI"
      },
      "outputs": [],
      "source": [
        "#Top 5 countries\n",
        "top_countries=country_df.head()\n",
        "top_countries"
      ]
    },
    {
      "cell_type": "code",
      "execution_count": null,
      "metadata": {
        "id": "sBsr9ZeAYhG2"
      },
      "outputs": [],
      "source": [
        "top_countries.T"
      ]
    },
    {
      "cell_type": "code",
      "execution_count": null,
      "metadata": {
        "id": "7Wz228xTZCZS"
      },
      "outputs": [],
      "source": [
        "top_countries.head(9).plot(x=\"country\", y=['Productions','TV-Shows','Movies'], kind=\"bar\")"
      ]
    },
    {
      "cell_type": "markdown",
      "metadata": {
        "id": "fHb8TsfCerfV"
      },
      "source": [
        "* ### 4.9 **Type** "
      ]
    },
    {
      "cell_type": "code",
      "execution_count": null,
      "metadata": {
        "id": "hU_C3KVie00i"
      },
      "outputs": [],
      "source": [
        "#Plotting pie chart on type feature\n",
        "plt.figure(figsize=(14, 7))\n",
        "labels=['TV Show', 'Movie']\n",
        "plt.pie(df['type'].value_counts().sort_values(),labels=labels,explode=[0.01,0.01],\n",
        "        autopct='%1.2f%%', startangle=90)\n",
        "plt.title('Type of Netflix Content')\n",
        "plt.axis('equal')\n",
        "plt.show()"
      ]
    },
    {
      "cell_type": "markdown",
      "metadata": {
        "id": "qkxCWjAeF1gk"
      },
      "source": [
        "* #### Most of the contents are Movies\n",
        "* #### Less than ⅓ content are Tv Shows\n"
      ]
    },
    {
      "cell_type": "markdown",
      "metadata": {
        "id": "-zPsX-beyNwO"
      },
      "source": [
        "* ### 4.10 **duration**"
      ]
    },
    {
      "cell_type": "markdown",
      "metadata": {
        "id": "6IRDTd5cybrC"
      },
      "source": [
        "* #### 4.10.1 Checking NaN values"
      ]
    },
    {
      "cell_type": "code",
      "execution_count": null,
      "metadata": {
        "id": "GFBdWbvSyfTK"
      },
      "outputs": [],
      "source": [
        "df.duration.isna().sum()"
      ]
    },
    {
      "cell_type": "markdown",
      "metadata": {
        "id": "5rRH5sWNyfvX"
      },
      "source": [
        "* There is no NaN value present."
      ]
    },
    {
      "cell_type": "markdown",
      "metadata": {
        "id": "CAJ3DAbeynrN"
      },
      "source": [
        "* #### 4.10.2 Checking datatype "
      ]
    },
    {
      "cell_type": "code",
      "execution_count": null,
      "metadata": {
        "id": "1dZgC2dbysVE"
      },
      "outputs": [],
      "source": [
        "type(df.duration.iloc[0][0])"
      ]
    },
    {
      "cell_type": "markdown",
      "metadata": {
        "id": "naBqa9Qey0Qq"
      },
      "source": [
        "* #### 4.10.3 How many unique values present in duration column ??"
      ]
    },
    {
      "cell_type": "code",
      "execution_count": null,
      "metadata": {
        "id": "_bu0WDj4y9JQ"
      },
      "outputs": [],
      "source": [
        "df.duration.nunique()"
      ]
    },
    {
      "cell_type": "markdown",
      "metadata": {
        "id": "DEPtJvifzBK5"
      },
      "source": [
        "* #### 4.10.4 Using *value_count()* method"
      ]
    },
    {
      "cell_type": "code",
      "execution_count": null,
      "metadata": {
        "id": "cLYJkUOWzFe6"
      },
      "outputs": [],
      "source": [
        "df.duration.value_counts().to_frame().T"
      ]
    },
    {
      "cell_type": "markdown",
      "metadata": {
        "id": "jQFm_gFTziwX"
      },
      "source": [
        "![image.png](data:image/png;base64,iVBORw0KGgoAAAANSUhEUgAAAdUAAACaCAYAAAD/wNL6AAAAAXNSR0IArs4c6QAAAARnQU1BAACxjwv8YQUAAAAJcEhZcwAADsMAAA7DAcdvqGQAADXWSURBVHhe7Z0LXBZV/v8/be0+rW20bYtaC6WBl8A7ZkGakIpkKpmKmyiliHkrb6VIbUolopm4m2lJmCGaglaofxe1AtOgzQt5gUyhMiiVp5uU/mRXd/7ne2bmYZ6HAZ4HRlP3+369hmfmzJkz5/493+85Z7hKEYBhGIZhmEbzG+2XYRiGYZhGwkKVYRiGYSyChSrDMAzDWAQLVYZhGIaxCBaqDMMwDGMRLFQZhmEYxiJYqDIMwzCMRbBQZRiGYRiLYKHKMAzDMBbBQpVhGIZhLMIjofqvf32Clre3QmbWes2lJj/++CMGPTQEU6ZMw//93/9prr8eJSWl6N4jtM44X0rMX/CijC/F2wr++9//IjcvDwcPHtRcLr88YazFnXZ8IdH7CKrrlyt6Gjp17orCwk8115pQHlNeU543BLP2S5D7pk2bcV+vcBn+Xx+Oxnvvf+D0Lup/qR+meFJ8PeWbb75BwtN/Q7e7QmS49EvX5M7UDmuqVzi7d+/B6NFxOHPm1x/gMMyVxqlTp5Cy+O/46adTmou11NZ+i4qK8Ldn56Bli9uQlpaKpxPicV2TJtrdxnPk6FGMjBmF9957H488MhIZq96Uv3RN7nSfMYeF6iXGzBlPYdfOPPj7+2kuDGMtd93VDV9+cRRRQ4doLkxj2LlzF7Kzs3Ex/zdJefk3UqCPjh2F+8JC0b59e/zmN87d+e9//3ssXrwI77y9HjfeeKPmWj///ve/kfb6CiHIT+P11FcxccJ43HNPiPzNWLVS3k9ZtFjcP6M9wRhhocowDNNAAgMD0LZtW6QKIXT0ImpvP//yi/y95upr5K+VVFZW4rvvvkNoaKhMmxE/Pz/07t0LJaWl+P77HzRXxshFE6o0iiNTRmxsHNre0Q6tWt+B4dEj5SiP5geITz/dj3btO9WY66E5AvI/J/F5nD9/XnMFysrK0Sc8Aq8sXaa5uA9VnCWvLMW9PcMc8wWLUhbLymSE3k3zj8XFn2H9+rcdcxj0S9c0ajNC1xmr1zj8DRw4CHl5O7BuXaZbc6Vmc6pff12GWQnPyPkbCpPiTHH98cefNB/mUFg010LQr2u4ish3ihvFUc+DZa++VsPURGV36FARJkyY5FR2H+Xnuz06p3ylOPfu01e+i477+w3AihUrcfbsWennxImTeKD/QJnW//znP9JNh8p97tx5sryp3Al346XPIX/wQS6S5s2XfundBw8dkvfdiZuOJ+VrRb5R26A2Qs/R8xQOhUf10Yg+T0pxefXV5bIsa3uf7tfYzqjM01a84UgX1bVJj0+u8R7ixIkTSHzuecdcGz1Dz5pNMdD8m1536aD65ZqnOq5x0NtkffXciDtx0+caqX1Q23pi8lSZr3TQObm5i78QMpMnP46ffvpJ9CfLxHvc097cSatZ+927d5+cI505c5bDnZ7X51GNuM6pUl28O/gexDwyyslcTXGe/uQMeY/8/PnPf5Ym5eR5c/G73/1O8+UMuf/2t7/VrhgjF0WoUoNev+Ft2cD/c+4cFr44H0te/jt+f+21GC2EbFraCtlp3nqrL9q0aS0n/o2dKjXsc+K5IlHgP/+sjtCIoyUl+OqrY+gaFKS5uEdFhR1jHxuP9PQMDBr0IN5cuULOF6xdm4kxcY/hiy++1HyqUCeQlJSM1WvWyAb06rJX5FzGUzNmyoahd1hUiZ+dnYhEIfyDgjrLitk3IhxPPjVTjGTTpB9PKS39Ao+OisXhw4dFuLNlXPv1ux/Ll7+O+FkJIj9+1nzWZNCDkXjmmQR5Tr+U782bN5PXBMVpVsLTMo4U1549e2DRosWYm5TkGCxQ2t55510MGToMx0WHNX/+PEfZPfporCzX+gQECcFHHh2Nt99+F8OGRcn5mZf/sRje3n/G8y/MxRsr35Rh0HVIcDD27NkjBawRu/075BcU4J577sEtt9zcoHjNS56PY8eOSX/Dh/8Vvj6+bseN8KR8GxI/V6hNLFmyVLYReo6ep3AoPF1YujI3aR7WCgE/ZfIT+IdIB7Ubeh/FpTYoXbPnzMFrr6Vi8OBBMg9mPPWk7GBHx46Rvzo0lzY8Oga5uTvw2GNxsj6Gh/fGiy++hClTpwnt5XvNp1p3af6NBgVPPjlN1K2FcuCc+NwL4p3OgpXa5LjxE2Q4FJ6xTY6fMFHerw9P4kZ88sluxIn2TvVp+WvL8PjjE/Hxx/+Sbse+/lrzVT/3hATjkZiR+Oc/c5CTs1VzrR1302rWflu2bCHnT+PixjjcqbxatfKX13VBWvX4cY85mavp2LT5/4n6/w6mTp0i/dTFx//6F959N1tOIVAbYUwQmeo2osIpLVr6u3VMnjxVESMg+dxnn32m3HV3iDJt+lPK6dOnpRtRVVWlzJ7znNKxU5Cyb1+hIjoAef3Q4KGKaADSD4VBYQW266gEdb1LEQ1cuosRvLJgwUInv2YcPVqi3NO9p7IuM0te0zteeCFJvnPXRx9JN539+/fLeCY8/YyMG6GnedhfhysnT1ZIN0KMKJXhw0cqI0Y+opw6dUq6CS1B8W/VVhGdmoyfDr2H3kfxoPjURfL8BU7+3nprrRIc0kP5/MgReU1Q2CtXvqn0e2CAIgYcmqs5evzpV0fPk7D7+jiFS2meMSNeERqbIkbr0u2rY8eU8PD7lcefmOJUdpSPlP+UX1S+dbFhw9tKj3tDlT1792ouKpRvQmAoQ4YMk/lJ6Hm4Zcs/5bXO+x/kSne6T3gSLz29VF76e3QaEjd3yteKfKM2QeGSf3pOh8KjcAcMHKSIwYd008vZtUwrKysVMYA09au3CfJPdYzqmpGDBw/JupCRsUZe03vHjZtQ4x2UF9u2bZd5s3TZq/Jab2eUJ59//rnmszr99H6q6wT5p+eoje/Y8aF006FnKQwKy5gHrngSN71PITehrUs3nY0bN8m4udY/V3744QflwUGDHf3ct99+qzzQf6Ascyp7HcpjY/vzNK1m7ZdwDZdw9aunk+JJ8SX0+qDXVf2drn2zKxRvIYyVO7sF1+gLGWcapKn26nUfnnhikulBI6hmzZpqPlVEhyhGzOcxetSjaGJYoUYmhKFDBuOaa67BB7m5uPrqq3FXtzvx+edHHCaYU6cqpUY67rGxuPHGP+LIkSPSnTS0AwcPygn6G264Qbq5w7ffHkfejh14UIwC777rLs1VJTAwEBEREfhoV36NZeN9w8PRtKm3dgXxTi8EtgvEL7/8IjUK0qxztm5D69at0PPee3HVVVdpPoE7u3YVz/fRrjyHTNU06hcVW15T2I88EoP/t3kj7rjDec7DE+69twf8br9du1LLI6hrkDRB0TsJMit98eWXiB7+sFPZUVmRxkzlWlDwL83VnIceGoQPd+QiqEsXzUXFy8tL5te58+fE4E5NW/v27dChQ3t8KEbTurWC8vfDD3eKtN7hmONpSLyovKjcjLgbN0/Lt7H5JtqmXGn5hz/8QVpT6DkdCo/qL22zKCou1lxVRo6IRutWrbQr4Prrr5caOPndt2+f5moOaXpGM2k7kV/bt+UgOvpheX3kyFHs3PVRjXdQXoQIbS0sLBQfvJ8r26xuWaD5N5qH09HTf9NNN2ku6vYUSmtv0a/ceWdXzVVFn8OjsCjM2vAkbjpUlj26d3cqyzZt2+Dmm292zFm6Cz0zYfw4WebLl6fWmBbSsSKtjYHqw+OTJor69x/84+UlWCC0ZWr3pNkb66krFCeaDmgr8idl0UKnvpBxpkFCNVx0IFOnTDY9xo8bKyuYjtB+pDn1lltucTI96pDpxdfXB2VCiJIZqpVoEH/8oxCe2qR/eXkZTv9yWq4+a9myJfYfOCg7WTLbffbZYSmEjR1OfZw8eUKajNu2aV3jOboOCLhDmn5czU2ucaeGePXVv5FC9RcRv9Onz6DkaAla+fvX6Lip0t56263alWfceeedogI3lfNodwd3hxjFyg67tnkpTyDzjVnekZmM0kV8KToJGrRQnnz0Ub7TQYMdShvdozKpDypfKtcPcvOkWZPmdt54403trgqtUqQOkNL47fHj0o06mN27d4sO8B5HY25IvG5u3typAzVSX9w8Ld/G5huVLw3syB/5dw2D7tHqzmOiLhuh+uvKrb6++Mtf/oLiz2rOjxK+Pj6ifQXL9HYJulNOjZAp0253bgOUJqHNoHWbaqGlc9111wmhcLs0TdMcNc1tHjv2tWk709u8zg8//CjaZQWEvigEf6FTOoXWJfOC7ruab414EjedP/3pT0KQ/F67UvnNVb+Rq2hd0+4OJBCjooYgM3M9dom4m2FFWhuLbgamfa5CW8akieOdBiKuUHzmz18oBerCFxc49e9MTS74nCppV+fPnZMCyHXJtxk339xcdgz6vOrBg0XwvdVXNgqaby0tLZWNh0bopE0E1DMH4Mr58/8Vo7Rz+I0HgpigBmgGzQ3RwIG0GdJqasPbu2EjO0r3mtXpchRM0BwuLU6gRR+0QKsxwrW+OJGgOS40e2rgtDBixMhHnI6pU6fjuBB8P4nRd20jc4LiSHHt3OVO9O3bTy5Wy8zKkg2ZtGUjJPSCg+8Wg5oKHNh/QLqRMKAO+r5eYfJ+Q+N13R+u086qcTdunpSvFflG8SKhS8KCBlSuYTz77Bz5ngp7hfaEqi3d+Kfat05QvTeDhPPzzyXixQXzZbq3b38PEyY+LhfPPDZugsNqQ+shCHdWnFKboHbqTjujfKJ3UCfvmk46aBEY+dEHemZ4Ejedm0Sbrm2xTV3vqg0aAI0eNUoMGHyxbOmrUhi5YkVaGwu1IZoTpfpy001/Ehp7a+2OOWVlXwsF5jM5b8waav1ccKFKgvTqa66Rwkw3X9YFjSo7duyAoqJiWSkPFRWhQ/v20mzRuXNnaQYl0zAJ3Q7t26Gph8KKhDuZm//rhmblCVeJEW5dDZq07YbSXGhYTz01HR8X7JKmyrkvPI8WLVpg4cJFyFq/QfNlPddeey2aNmsm98zSe2lvo9lBe+GoYzaDzJi02IfiSmbE/I8+FBrfYRnerFkzpQXDlbZt2kiT3a5dH0lzJJl+O3boAL/bVTOiFfEiPImbJ+VrRfxstmvhIzTI7kI73//pXtPn6aB9zTokqH8UmpAr/xUDAmp7ZEquDYrzkCEPYePGd1C4b49chEUWKVoxTdaRM2fO4Lei3RB1DS50bDabbMvutDMaCFAHT4uZzNKoHyQIasOTuF1Ibr+9pTSl7tm7F2veegvn/uMcHyvS2lioLJcue01O8ZCVbXnq69KtNnRFpDbFgnHmggtValxU0b744gvHVggjNMdJ7qSN6h0Mreb9WozSDxw4IFe90twOja7IjEVCmkwldK9jx451dppmNGvWXAik26QZ2bjCmCBTHK00vu3WWz0ekV13XRP4t/KXpjrjvA1B2gilw1NotE8rUGPHjJUNgNJOZjNauUorQcmk9+2332q+rYfynEymZC43ew8NfGgbCmnPtUFz3/n5BXLum7Rt6lB0cyBpY2bhUmfco0d37CsslHOBZPoNuScYf/yjOnduRbwIT+LmSflaET+b7Xdy3vHLL78yXflKZmraWrV16zbNRYW0W1foQwEkcGlO2owtW/4ptyrRylyC8pk+KLA45SU80O9+nDh5UtZFmn6hstH9GSGtlAa8lG7akkEDwdtuu9W0ndH+RuOcodf1XnK9xNEjR6X2bYTa5HPPvyAGPTF1bnXxJG4XEir7Af0fwIAB/fHmm6uwdZtz+ViR1sZAA0la7Uvm/ecSZ8uDzsmN7pmhfyzkQgr6K4kLLlSJXveFiVHydViVsdppRESdEWla1IGFhvbUXCEa421CYNwi9wmSBkDzrAQJOlpS/try5fjmm2+F5tpJunsCzeeE9uwpK9InorM2Qp/+ysnJkZWHBJYnkBkpom+4XDCx48MPnSro7j17ROParl25Dw1ISCOl+UXXzoK+dkL5Vpf2YaShI3gSbs2E1kV7M40mKeoQyI22vnTq1FFzrQkJKRr4UFkbTZ2UP7lCMNBB7lVVzmbQO7sGSaFH7yCLBZWZkcbGi/Akbp6WrxX51qdPL7n/kbY7GONHC8neeGMlrrnmt2jrslCN/BqFMH11Z+3adejW7U60F4NTM2jQS3lNZl/jHC8JQ1qwQ3WM4qMu7LkHGza841jzQFBe0OCE8qtn6L1yzpnm6+8T7d61nVH4mzZvdpiUCd0vfbuW6roxbws//VRud/Lx+YvpmgwdT+J2oaEFP2Pjxgjt3yatLEYamlarNHD6QMXLL7+C+++PQEREX3nQObldzI9XXMlcFKHapk0bTJ8+DRs3bsK48ROxWYyKaIQ9XpyvFh0MVcBOQuvUITt/hw4dsHffPqnB6lojmYBptE2dCq0Spc7AU6hzoBXKNOk+deqT8rudVPFpXm1M3Djc4HUDxoyJlfMjnkId14MPDsQzzzyLGTPjpTZB4T755AynTtETaNUxaeq0F5LCIi19zZq1eGLyNDkn1F+MiuuCOkTSeOgZ2tfo6VwNzenS3tycnK0YGfMoskUZUtlNmvSE7KxjY0c5lZ0rpD3QAo7PP/8cM+MT5LN0TJv2pNxTSQvQSPNzjRcNrGh1NtUVErA0mDLS2HgRnsbNk/K1In6UfvJHH0ygtkLPUzi0d5QWtYwf/5i03hihPaWPjRsv/dFBe5xpPyatzK9tDp0GrbRCmMyAtPeZ0kXvorlfahsP/3WYXL9AwmLqtCnymbFjx0tNm+7TRwoef2KKnAuPGjpUamvUzkaOGOFoZ5RPFC6Fn5b2hpyC0dH9Uj2n/oHC09vkhAmPS7Nj7JjRdbZJT+J2MaDFQLRC3xVP09rY9muEFBr6QAWt/KU+l/JMHwCQW20fr9D/KYDrR3mYWhAjJbfR90Hp+9vMcN2/pUP7nGg/n+hglDZtA+VB56JCKWL0qvmqRt+HNTcp2WkfGe0fI3fa62Z0rw19j6JrnH/44UflpUUpco8ihUe/dG232zUfKnqa6dcV1z2lhNBEFNFpyP1y9NyAAQ8qYpQs00H7So8fP6H5NMcsTIoT7V2jPWIUJv2axdUM2u9G8aH9jrQvb/fu3bXmCWG2/43ymfYsio5dlpueLtrTp++nqwvyQ/tB9Twxxt91/6kRfc9g+qoMzcUZd+NVV3o9jZsn5dvYfCOobVAbeXj4CBkXOuic2pKx/uv1lOKybNlrMh30Tnp3UVGx5kvFrB1XVVUpWVkblIj7+8t7+rMUf9d2Vl5ersxKeMZRH+mZ19NWKKdPV7d3HWpnCxcuctQ/avMUR+oj9H2qOvQ8haPnLT0TP+tp+T53cSdu1C9R/+TaRxF6XXGNmyu19XNGvvvuO7k3muLh2n+4m1aqJ67tlzBrp3q56m56Oime33//vdxfTff1/bo6dE5udM91Dzahv8us/TA1uYr+aPKVuUCQyev5F5LkF6FSU19zzA0yVwaXQvmSKZFWha99azXPfTHMr8hFMf/+r0CmZFpk4Logq/ybb1CQXyDn0K6/3r05UObSg8uXYZj6YKFqIfTdWto/+8TkKXK/Gc1/0tzOI4+MlvvohkYNkXMqzOUJly/DMPXB5l8Loayk7RKvvrZc7rGklZe0OOSvf41CzMgRF3w5P3NhuZTLl82/DHNpwEKVYRiGYSyCzb8MwzAMYxEsVBmGYRjGIlioMgzDMIxFsFBlGIZhGItgocowDMMwFsFClWEYhmEsgoUqwzAMw1gEC1WGYRiGsQgWqgzDMAxjESxUGYZhGMYiWKgyDMMwjEWwUGUYhmEYi2ChyjAMwzAWwUKVYRiGYSyChSrDMAzDWAQLVYZhGIaxCBaqDMMwDGMRLFQZhmEYxiJYqDIMwzCMRbBQZRiGYRiLYKHKMAzDMBbBQpVhGIZhLIKFKsMwDMNYBAtVhmEYhrEIFqoMwzAMYxEsVBmGYRjGIlioMgzDMIxFsFBlGIZhGItgocowDMMwFsFClWEYhmEsgoUqwzAMw1gEC1WGYRiGsQgWqgzDMAxjESxUGYZhGMYiWKgyDMMwjEWwUGUYhmEYi2ChyjAMwzAWcZUi0M7dpBhL7o3ES+XapSmx2PBFPLpoVyoNfe5iYce60SGIzwPiMo8ioavmzDAMwzBu4rmmWlmOkjoFYy009Ln/RarKkf9yMrJPaNcMwzDMZYHnQrW0CDn0G5qET744ii9NDxNts6HP/c9RiJeCwhCdUoqzmgvDMAxzeeCxULV/VYwqOmntD2/p4h4Nfe7i4Y1hK1Th/mubfqvOaCcMwzDMZYXHQrXsqwL5G9bGR/66S0OfYxiGYZjLBQ+Fqh1HD5K+aUNgC4/01AY+Vzv29XFoeXsrjF5vByqLkZ08EX2CWkm3tiFRmLK8APbzqt+qI5uQND4CHcW9lre3Q7eoaUgtEM85QQuV1OeT9mhOkkIkyeeSsU9c2XelYUqMIaz+E5G0qRiV2rsc7EmWYbUcnSVCNuFEFkbLMOKwTps7VdMUhVR5lYf4EDU+Mo1GztuRv3waovsEqe/Q47G+0JHmGpwoxDqRR/1D2rn/DMMwDOMRHgrVcpTm0W8w/L3Vjn2wkyDLQ0ml9OhCQ5+rn6rDGRgfFinC+BjwCUCgnxeqhADJTo7B8BcLUJKXiP4RQoh+Avi2D4D/jVWw7xFCNnqkEJ7SIO0mlchJiUSPmGRkF6lhBTYXgrB4G1InR2Lwi4WqebsxNPFGYHs/eMkLG7wDxDvEe5o2kQ4q5ZswvlsIopM3Ib8U8Kd4tPdBFcVjRhR6RKZgn6v5uFwI8N5RiF++DUVVPjLMwAAvMRZRn+kWIQYMbHJmGIZpPLSlxm3KMpXhLf2VFi37Kr17i9/AYOWBgQOVBx4IVtpId3F0maC8W6b512noc3VQkTVGfU4cbcasUg6d0m4ITu2cp/SQ9wKVNoGByqiVRcqpc9rNc6eUj54PVZ8dlalUaM4iRGXtKDW8ubs1J8k+Za72Hor/zI0lylk9LMHXb0/V3jVUefMrzZHYPc/kHQaOZyqj5HNjlLXHNTeJ/j5Xd8FpcY/yT9zvPSdX+fqs5k6cLVHefaqvvNdmTKbytSOOerpEPrzlksGn8h3hPZThQeYzDMMwpnimqZaVIl+eCBWpeyo+2Z+PzdnZ2Lw5H4f3ZmJ6Vxvw4zZMGeWi+TT0ObcIx/wFIxCoqncSr+4DESWnbqtQ1W8Jlj0SAK+r5S3gai+EPByLQDrPK0WZdHQP36mLkDzADzY9LIHvoGmYGExnhcjbZ2rotYyyd+YhVWQhraBe8UwofEW2ObD5IXLeK0jsLFL9fiJeL9D15morQd9Ql/lsr2BMf3oEbM0DUFVUbG6mZhiGYdzGI6Fq/7FSmldtvRZhzexQeBuEC27sjEkrUxFH/XZpGua+U70ptaHPuUVoKEJu1M4deMPbXz0LCw6EUfZIrrOhqXbqPjZEdg/Qzo34oFV77fSCzk3akf9+oTyLHNIXvsY81LnaDyEDKY5VWLe7WHWDF3xk/PLw+qIM7DvmbKS2hc7G4XwxwEkKv0RXZTMMw1w+eCRUvfslYfP2vTicOsC8A24SjMiHVW1oX16hQ/Np6HNuUc8WHX9fq0RFMHxu1k5/FXSNE8hNGYn+kZGmx5TXSJUVYvVgiZaPfnhwwlA5T1uyPhGDw9qhZbsQDJ6ejPRNxSjjuVSGYRjL8HChUv001VXE8559uqChz/0vUllajKKDtRwnai6X8uqbhJ2bFyGul7eqtZ+xY987aZg9ORL3tmuHbnFLkc+2X4ZhmEbjsVCtqqxEVQPMnA19jnElAInbXb9EZXKsGOqkwXsFDEBCaj4Of7YXH2YvQuLoAejSnERsFezvpyB6eAr2NXr5MsMwzP82HgjVUqRHtkLbTkEY/07tak1ZifqRB5vDLNvQ565wTlehQjt1D31utBgFxQ3cf0TYvODbfgBinlmEDfmHsH9zPMLIvTQNufo0LMMwDNMgPBCqfgjqrc575r61FSVmWmd5FpZkkLrjg5je+qKehj53hfBJKcpM0lyyayOKtHP38EPIA37yLGflRvN8FFpn7t/aoW1IJAYv0/bNHslAdGQkug1OM33GKyAUoVJYV7ElgWEYppF4ZP4NHDoNYfQhgsJEjH8hz/lLPCfyMHtUAnLPCGVowCxMom0yGg197rKmdRdE0u+ZDDFgcP7ikv19kQ+J6kremlSv1i39Ujo48B8RjxgtHwdPzkCRUWE9X4miNydh/GohHE/YEBneWZ0/vc0P/qXFsBemYObywhpffipbm4ykg+KkyQhNuDIMwzANxbM51eYDsGzlBASKjr3kzTh06xiirjqlz+WFxCG9VIiEfrOxeV649lUgjYY+dznjFY7pC0KFYBPaY2IkOnaLkGmmTyl2i8uC7fEkJIRqfp3wgX8XdWCRGqfmU/wWzWzeJBQJb89GxI1A5ZZE9O9EnxpUV/126xiE/ol54m1+GLZkEWJUpVaMVIKRsDIW/uLOvhej0LFVEPpQ3mtxuTdBPNMkAJNWxiPkChnPMAzD/Fp4vFDJ1nUqNu/MxuKx4Qj0EtoRrTgVQtG/Oy2EycHOv4+AP2lTLjT0ucsZ3yGp2Jkej8jufvD6sVSkuRSn/ER603OxeWpoLQMIG0KeykRCX/HMGbvMp3UHqvfu2lqPwLLcHKyIH4AQ+alBddVvpVcAIsYmYUN+DpL7qeZ2HVvXeGzPT0ditMh7IWxLKO/FUWbTnnkvW/0AB8MwDNMorqLPKmnnDMMwDMM0Ao81VYZhGIZhzGGhyjAMwzAWwUKVYRiGYSyChSrDMAzDWAQLVYZhGIaxCBaqDMMwDGMRLFQZhmEYxiJYqDIMwzCMRbBQZRiGYRiLYKHKMAzDMBbBQpVhGIZhLIKFKsMwDMNYBAtVhmEYhrEIFqoMwzAMYxEsVBmGYRjGIlioMgzDMIxFsFBlGIZhGItgocowDMMwFsFClWEYhmEsgoUqwzAMw1gEC1WGYRiGsQgWqgzDMAxjESxUGYZhGMYiWKgyDMMwjEWwUGUYhmEYi2ChyjAMwzAWwUKVYRiGYSyChSrDMAzDWAQLVYZhGIaxCBaqDMMwDGMRLFQZhmEYxiJYqDIMwzCMRbBQZRiGYRiLYKHKMAzDMBbBQpVhGIZhLIKFKsMwDMNYBAtVhmEYhrEIFqoMwzAMYxENE6rlWRgdlIjcM8C+5FZoeXv9x+j1dmBPsjxP2qOFcwVhXx8n0paMfeoV1o0W6R6dJc4uQy56OWn5lVyoXV/62HctRdImQ+leCnXbwjjU2q6d6rRWbmb+LlhZGt55MeqLzFO9XV8kipeiz+AMlJzXrpnLigYIVTuyExOBWRMQ1gTw7jwBkx6vPmJ6+Qg/Pgh7xNk9tIVNfZxhLnsKkRqTgpIq7fKKw46jR7TTOilHaZ52egUiB8pRadrVRSQgFgkByZiZUao5MJcTVykC7dwtqnYlomOCDWu2x6OLiZykithtBpCcn4phzTVHHRr1iUoal3kUCV01tysENd1+2PCFyBfNjXEX0j5CEN86E1/Gd9bcLmUKkXR7FEoW5GPFEG/N7QriRBZGhyQgF6Hm7VhHa89A7BVZ79U2TaOGXyF9pRkY3KcAMXtfQeSNmltDqMhD8sJv0W/BcHTQnFSK8MaMNTigXaHDcKSMCNQu6uZAxtN4w/EgEYhRNcKvDzsOHBKvbVd3+3F9V4eYuRjVTrsgZPq246R22Sx8CuJ7m4dJYW1pbrzvkgdONCRNKh5qquVYl5KBpg8PNBWobnO2HLnJosK2IzNOEPqMX4p8VzvpeTvyX56IPkGqqadjn4lI2lSKupUD6uzI1FyKkvWJGCyfbYducVr4lULDGB+BjmQ6CorCbOHPKbzzlSii50LayXe2DYnClOUFsLuaYewFWGIMZ0s5zmq3VEzMv5Se5dMQ3SdIhi3j1X8ilhS4mhDjsO5IKdb9Laru/DHjhCFe8rlkZB8xptAsf7TwT2heCBMzor1gKcb3D0FbCrtdCPq7PkNUFiM7uf4yk2Fp+dBxcCJyys1LtbI4C7Ojqt85eHpavfmgm+Fz9yxV0xcUgaS8L2sxL7uanV3yR6sHlA5HOZHAEQI1VZzmzggR90V5UT645Jkej3yqK3FaGgx1rmyTHr6hfhqptyxNqFFuVTIdjjon8iL6b1koqtRu10Z5qRCohB9a1SZQBfavNE0q1A++6plbOEzL1D5kfmrXhrg7m5+N5lcz86+Lm5YP+iGnnjTUciF3F5Ou4ZmkPWp4qkAl0jCY7hnbs0u8zU3Ean2q9lObPxP8+iIqdBteyijWHBqAi8BxQO5CmJwUAihlwVxxCOFxYA2S36uncUkhJITciT6Il89pRwxUdyEk3cOO7QsXY4tr/+GCFKjGdz3ZByfTje8R8RHpg54OcR/bFpvGo+ZAgCDBqYXtOFRB2iy8T4MEKuGZUC3NQ2ahD6J6BmgODSN9XCReOn43nn41HSue7wvbzhREj8tAmXYfVYVYEhmG6JU/I2xWKlanpyKh189YNzkC/UWjqadrQclrEzF45SlEzBHhLxgB3wIR/swExA8eg7yAiViWvggJ3SqRPiMSSbv00OzInhyG/nP2wffReeKd6Zj/qA9K/hGDHuOyUKYL1h+3YUpYDF76pCni/p6O1XP64tTSiZi9tULzYEYVcueI9PyjFN5D58iwVyyIRVCVaDTRI7HEqd2U4PWJUVhV2Vfmz+L4njXzx4SqwqXo3zsGqadDkZAq4pUaj7DTWZgSIdK4xznHKH/6zytFmMif1X+fAP8SEX7vOGTXUsmrRIczOHopKjpMwHwR99XzYuErn0lEvh70GdGBDI7ElAy7VmaLMCmgHOkuZVa5ZRp6RKcg/+ZYLBZhPdf3FJaMS8TW7zUPGvZNE9GjfyL2Cn+Od34u3hkmhFi55qlWMjD+sTyEUPnPikVExz9o7u7hqD+Ujr+LfLTtEOU0EenHxM0bgzEpPR4R4jRw9CKRzgkIqVWTyMPs4ZNQ4DfVUOfGYOaMOPR/rQqRz6dW109D+XpSlnVhXz8JfWYUwKtfPFZQnZsVirPvJKD/qLrrkkNY6sJEO1znastKNKGTl4BuDn/aIMMd6DmpEVeTGhWH0UKgDV6uOUhEPNxdn7A8qobJlgY/RsHaaEgAu8RbzStj2kmgqoMvZ8ifO4LVG/f1C0XZa1nVbcwDTr63GFNJ4DStqbUd2CYEbdM+GOXQ2ALRL9wbJz8tqimADRzIEFodabRPhqKZ5iZpJ9xiAnEgfTG219UNekQR9goh2CHC8K6moegnJN0BEU/i5HvbccCYDnF/lEjHgZw8Qzq0gcABbzRrqjnVgUyjU940ADL/usvRlQOVFi3nKR+d0xxMqMgaI/yMUdYe1xyM7J4n7vkrbZ7JVc5qTsTXGUOF+0hlbZnhOnCO8sEp9VrnbO4cpU3LocqbX2kONdinzBXht+gh4nhacxKo8fZXRr2lvYA4m6s8S3FZtE+93KmGvfxzeVlNySrloZaByrM71Rgf+keoiJtInyEo5XS+MreHeK/Im73SoUJZO0pcj8oUZ3S5VXm2dxdlVJa8quYrClvES3fX8qfH8/lO+VNnnkrKlDcfUvP1lFPZnFU+eCZQafHQKuVrea3lT434i7wIFM/P0d6rxWPubnlX2TtPPDM8UwtD4/PXlQe69FUW7jbkC8XRGK7gaBqVrVZm54qUl0U+tRkjwjLE82z+PKUHxWueWhbCQcbnobQS9VrnXImaTj2eJqh55a/MfM8pB9Xy0MN34OpuXn+U45nKKOFeXX6qP6fydMkzPR5mdc68fo5R3pXBuVuWJjjFQUubqEtGzr43S2kTPEF516WcjMjypniaHNVp1sI38UOHng9mGMN3rfvqUV3Xq/26tC1yc5Sbc1wc79bKTbprbVEvl+rwNAzvdy1DZ79aHaHD7P26myM8Q7s1xMep7tRG0SuiXQQqC12rbb0cUlY8laJsOylOD65Wpjy1Wtmv3hBUKNteTFDmbXfj/UZO5irz9DBNMQlXvjuh+lh1SDiq/hxuL+YqJ1TfbrF/lR6O87kDGc/q9J7YnuL03jrTLeNbVxrdwwNNtUqMTIVKFeqHVldrTg0kRozAjNZj3zY0W1GAUjnKK0f+lkKgixeqDhQgf1f1sfdnG/zFCDBvdz2jzvCeCGminQtuuI6GKMHo250WUWnY/BEQLFKljQL35mWgytsftgrnd+Yfr0JTkfb0XaROlmLve0JNGhSNBw1BoUkwomLr0N69w5G4fW/N+bfbAhEkfipOO9vjInoFO+WPdws/8TcPpbVpaOUF2CqyLOhP/8ahAmP896HSJp4t3OFkqrWNmIBhTvEPReQIG6qyPhbjupp4+3YWxZOGV1YXouyM5tg6Fpv35mB6V4ppMXKzROSiXfJF4D9opNDqCpGZJ7Sfr/YhR3gbFj0QvoY6ZAseijHttQti3w6kn/FGK1uFIS3iKKhA1c2izN7cYRrPakLRObAR8xMu9QfN/UW9ExpPSb0qsguude4GtVxdwvdvLSqi4CxZQzwsy9rxgu9t4m1rU/DS+6Wwa/Xc1isJh/NfQaRLOVVTiBxNSwxbkI8vvzgqjnwkh6puuTPSVC3rRB62aooqrZFQ/WUiTnVC6lJ3NMtYTNLbRNe+jmcxVtRPzezcpXeseiLa3lF30h2ahDh9vUbzoZg0Vju3ij1bNe0zFMmP6vP/3hg2QYvn8q0uWmge4kM0zVTEZ4XMp6PuzcX7+KOL6HuKSj3VssmsOQV9TDWzCpQLbbKZyN/tC5/GVKHFySOj7haFim+F9te0Dm3PGx06GbTdQ2swNb1IzoE6zKrSxAz0eXIK+olwaP6zhtZbJ6r22qw5RcKOk6I+qOeuVOCkpjE36y3e4dZcsR3bc0QedOhTS765jwdCtRIV34if67WOoTH8Vvs1xY7SAvGzaynGx8Qg2nhMTpOdaX5ZPZ3bNddqJ0ZErK/RTiXi2pEQO8q+oJ8szHZ9Z0wycsiLkGh2kQflB0WV9fetkQdNvUnw1cP5KlQeKxYd5CakpyRifJ8xsoEWHXeZ5Kozf0w4UYp88UNz0M5xj8GUFTQYKED5celTEuJfs0f19Rcd+5li047Ld9AcJHS3y3nee9vRHKMId/kmFDn8inSJIjHLF9zoI+fbZBp/LBflFwA/X1df3mjaQjsV2L8h8yO9zzktdCRtIR+lKLPQmlcD0/rTEEQ6neqchmv4xvL2sCxrx4aQ2EUY1qIYS+Ii0O0OdQ4/aX0BSuqcU+2MhBodvxAaSUkIk+dpyCEzsEFAVC86FM9masIlbxs+qE8I1jIXG2ZSP92mtb+I7YWj2jROwrLaNF5tctaEf9dYx0DEaEb3yAztJdqF+PF8MFc/B9JXC+3GWeDVK1ib3uK2AJQm2g7DDYuK1PnL2hYR1Q/Nw1pgmq2NCiGwK7zRL9y9xVp14fmWmpu9xRj4IjA2Uxv91jwOT71AK0TFKPcTk/fJI3VAnY3V1uQG7cwMMdpcHoOOrdqhY1gkRs94HZmFp+D76FA5N2cV1RqD63EI093MsmvNrBBNAhCXvheHP8zG4udHIMRWgpzkaegfEuHRHF/t2GCrUalo5alZWuhIReSF7DkvAawoS/iEI3nzIezfno7kx8PRqupjpM6IQZ8Qd+almcYhBiIrqLyqtXdCXdxWc376YtMhxqjJCoEXI4TJge11z4lKbdUd6tIiG4K2sKlCxNMjzdZ9Th74FCebdkIHC6LsuVA9TvrahcQLPmQKLChCiepwEfBC07+In7xiHKpTRqhxKyopE2LSmbJjdSw9OJiG8ckFCHomG/uPikFBfjY208KVIXfLkWijEdogja/yi/RRdN2U2GuOlstKCkQn3Bn+dQgrm08AIqNnY9nmfBzem4o4n1Kkrtoh6oMNXkK5MMsX0k5pUUxICxGwjGcxSstcfQk/hpV5Xn8mTSUPxYetENgGatTdcpR/op1eKnhYlu7g5ReMYVMXYfV2MTDaPhthZ/Lwyian1XGMm6hTMURtgz7XLUjVmr/RjO6eefwiYtBCaaWswyxMi3xoNa28X21WrYldaKd2NOsU6LnQk6uRDe9caFxoZBCo2spcFW9pwj55wixCdZmpzWhE3E3wQKhqgue7UzilOlwg/BAWJYbiQhBlFjh3qlUFybi3XQhm51kt1m0I6TtC/M3AqndchvD09ajbgzB4NXVyfgh5QDSq1avxrtHbmUJk1rH03f55oRAswegbHgAvgyZYuWsH1mnnjcIvFJRlRWlZyNfnPCVVyH8hDG1DEpFryLKytzY6+7NvQnpGFXyHhsoO3ZlyZE+OQMdJm5wFkpcvvB2rXgMQNlQIQtd8EZS8swo5It9Cu4j7onOPFNmXnr6xejW1oGpPFlYd1C4EtuBwxDSp6Q/ny+VWh45RGR4OuGy44XrxU1ji/N6Crch2yq9LAA/LslaqCvFS/xD0edm5Xtpu9ql7IGfYKlJtqrRjXYK22lWfs3TagkI3iEIk6WZQw7zopUS1UEzDEkf6DPGuD8fcbx7iV+pbely2CYnr6q07xhXB3mjVWjvNK61zBbak0i7EWCPN4TUIRJCQTCdPuIh0w5xphxG6WVg9pAlXrry1Y8u2WkzEh7YLwectwqZReV0CzwQRttMWHYc2qglU0LYao0BVadZcvEukw6g9qxqn+2ZqFX2e2RrzlwdC1Qb/wGChQRZf8C/J+A6ahTi/cqRGhyD65U3I35WHdSnTMDguDRXBUzGmh/UGaFtwLBJ72ZCbEIH+CRnI3VWA7NWJiI4UnYnfUDw9SG2M/iPmibiJBhUZg6T1ech/PwPxUSORWodi4R0gNEAUYPa4BKS/T4tONiF1ehR6TN4Im3FBTIPxwbBZsfAvT0N0jxgs2STe8X4WXpochdEr7AiZFoswY5YJf6OjpiGV/G1aiuiIacimLS6mi618EBLqi6otszB8cgrWUfwp7EkTkXTQD5Me7SmnAwJjF6n5EhGl5gulcXIk+r9QCP+x8xAjOxM/xMwT8cyjbR3JMqzc1QkY/Gias5C0BWPMnFDYhL8+Iv9lnm3KwOxRkYjP88OwGUPlwiH38RKDpgGwladgyqQ0ZFPZLhf1aVIp/B3zXp6gaua5b1FYYsBkaXvwsCxrwyYGOr28UJIyEtF/y5BppjyMf3QS1jUJxfRBtSysMyzu0U2VLW8PEfmuusVNGKpOgxjmDFOjNIHi2EJiXMRzieEjBu3aaXX6zLa+OAvg6n2qnRG3QEs4bd+Rz1dvAdLzx3vIhGrha5h71f2FLYjVPiah77E12WZTXiLcfNAlwJrOXqdDOO3nXG0w9RbhjXSaA+1Y597MDiO0uVcnTVLgWJRUbVLuILQ+V3Oy1IDlvK17QvdAhiZQazH5NuvdBx0qtuMNfX+t0Hjf2GZ33objDhUkmL3hY4nZ0EPzr++d4WKck4citz5h1giadEZCdg4Wj70bFSunITomDrOzSuH7WDp2vjrUaeWoZVwtOrNXc7E6Plx05skYTQtDFhUA/ZKweUM8uujCj+K2IRvJ/c7i3TlxiJ68FEc7z8aKZ+ronQMmYM3qqQir2orZcTHimVeQ12SgqAw5mN9L3N9dVP+otR5sXeOxOUcItm4VQpiJd8QlYl2pDyal52LFEJeR7thUbBhYhcw5wt+sDJx1TaML3oNSsT11BHxLs9T4U9jfByN5cyamd9YWHWn5sniEN3LniXyJmYYlxeL9qbnYHN9ZiCEViueGzUl48OxGGdb4V0oQNCcVCS7Z5zskFTtXxyOiSR6SZJ6lIB8D5TsT5Ipjz/DqNw+bF4yA134hWEV9mvveDRj51hJM0jUHjwhAZPwIdPkqTYQ1EpkWW1I9KstasaHLE5nY8HxP4GNKs5qHe2+agNXvpSKyDi2yS/xRfKILDgequbN6UZI6Z7ihxupa+vpQHV9h+rWhBVb5+qIrDVpLoS+wMuK02EigaZfeom5+6RpGjfxRzb4180edL3dn9W/J7q0oa9IXIW00B6sgzfDJTtjrWP2r7T+td5Wsttio06fO5tp0SHenLx3JvatNscWwwvgNVL9DFbpCGNf2RSMhILfQDSE0nd5Fh0Oo0xyr+sEH1V39EIRTPNyh3pXNnuHhZwppVBWCVzpn48PHG/cBCObXQNuQTovALovPATLM/yrlSB8chtdDua+93PBwoZI3Hhw9AhUN/MoHwzAM4wYHN+L1wnBMH8EC9XLD49W/tu4TMD84C68b/+0VwzAMYxFVyM1cCttTExv3MX3mV8FjoUraauTs2cC8pfL/qTIMwzAWUpyGpI8nYPFY1lIvRzz+128MwzAMw5jTAE2VYRiGYRgzWKgyDMMwjEWwUGUYhmEYi2ChyjAMwzAWwUKVYRiGYSyChSrDMAzDWAQLVYZhGIaxCBaqDMMwDGMRLFQZhmEYxiJYqDIMwzCMRbBQZRiGYRhLAP4/gx5drhPkiScAAAAASUVORK5CYII=)"
      ]
    },
    {
      "cell_type": "markdown",
      "metadata": {
        "id": "m-6cUos0zisw"
      },
      "source": [
        "![image.png](data:image/png;base64,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)"
      ]
    },
    {
      "cell_type": "markdown",
      "metadata": {
        "id": "gwwqP_5B0iGX"
      },
      "source": [
        "* #### 4.10.4 define *convert_seasons_to_min*"
      ]
    },
    {
      "cell_type": "code",
      "execution_count": null,
      "metadata": {
        "id": "-qr8GUhS1X-l"
      },
      "outputs": [],
      "source": [
        "def convert_seasons_to_min(value):\n",
        "  \"\"\"\n",
        "  This function will calculate no of total mins as per season no.\n",
        "  Here our assumptions are\n",
        "    1. on average 5 episodes are there in a season.\n",
        "    2. each episode avg time is 55 mins.\n",
        "  \"\"\"\n",
        "  no_of_avg_episode = 5\n",
        "  if \"Seasons\" in value:\n",
        "    #containing more than 1 seasons\n",
        "    value = value.replace(\"Seasons\",'')\n",
        "    value = value.replace(\" \",\"\")\n",
        "    total_seasons = int(value)\n",
        "    each_season_mins = ( no_of_avg_episode * 55 )\n",
        "    total_mins = (total_seasons * each_season_mins)\n",
        "    return total_mins\n",
        "\n",
        "  elif \"Season\" in value:\n",
        "    # containing only 1 season\n",
        "    value = value.replace(\"Season\",'')\n",
        "    value = value.replace(\" \",\"\")\n",
        "    total_mins = (no_of_avg_episode * 55)\n",
        "    return total_mins"
      ]
    },
    {
      "cell_type": "code",
      "execution_count": null,
      "metadata": {
        "id": "KbbRzfMs3rEB"
      },
      "outputs": [],
      "source": [
        "#Checking the function\n",
        "convert_seasons_to_min(\"4 Seasons\")"
      ]
    },
    {
      "cell_type": "markdown",
      "metadata": {
        "id": "LXfuNCCR4C8v"
      },
      "source": [
        "**\"4 Seasons\"** : <br>\n",
        "4 Seasons = (4*5) or 20 episodes<br>\n",
        "Each episode avg. time is 55 mins.<br>\n",
        "Total time (in minutes. ) = (55*20) min<br> = 1100 mins\n",
        "                         "
      ]
    },
    {
      "cell_type": "markdown",
      "metadata": {
        "id": "dl2EuWeI0Z7Z"
      },
      "source": [
        "* #### 4.10.5 define *all_the_duration_in_minutes*"
      ]
    },
    {
      "cell_type": "code",
      "execution_count": null,
      "metadata": {
        "id": "d1BBVk8o0nFK"
      },
      "outputs": [],
      "source": [
        "def all_the_duration_in_minutes():\n",
        "  \"\"\"\n",
        "  This function will convert all the duration \n",
        "  whether it's in minutes or season format to minute\n",
        "  \"\"\"\n",
        "  # replaced all the min with null string\n",
        "  df['duration'] = df.duration.str.replace(\" min\" , \"\")\n",
        "  # this time_list will contain all the value\n",
        "  time_list =[]\n",
        "  for time in df.duration.values:\n",
        "    if \"Season\" in time:\n",
        "      #time is containing Season\n",
        "      # calling convert_seasons_to_min function to convert \n",
        "      # season to total min \n",
        "      time = convert_seasons_to_min(time)\n",
        "    else:\n",
        "      #replacing single space with \"\"\n",
        "      time = time.replace(\" \",\"\")\n",
        "    #appending time (it's not containing words like min or seasons)\n",
        "    time_list.append(time)\n",
        "\n",
        "  #converting all the time into integer format\n",
        "  time_list = [ int(Time) for Time in time_list]\n",
        "\n",
        "  #Assigning time_list to df.duration\n",
        "  df.duration = time_list "
      ]
    },
    {
      "cell_type": "code",
      "execution_count": null,
      "metadata": {
        "id": "EKg1SnIR0wpR"
      },
      "outputs": [],
      "source": [
        "df.duration.value_counts().to_frame().T"
      ]
    },
    {
      "cell_type": "code",
      "execution_count": null,
      "metadata": {
        "id": "CavtSiQaYMYS"
      },
      "outputs": [],
      "source": [
        "all_the_duration_in_minutes()"
      ]
    },
    {
      "cell_type": "code",
      "execution_count": null,
      "metadata": {
        "id": "8J-rja1IYOV5"
      },
      "outputs": [],
      "source": [
        "df.duration.value_counts().to_frame().T"
      ]
    },
    {
      "cell_type": "markdown",
      "metadata": {
        "id": "RqQqc3Hc6Qek"
      },
      "source": [
        "* #### 4.10.6 Analysis on the duration of the movies"
      ]
    },
    {
      "cell_type": "code",
      "execution_count": null,
      "metadata": {
        "id": "S43jBkqr6RVW"
      },
      "outputs": [],
      "source": [
        "sns.set(style=\"darkgrid\")\n",
        "plt.figure(figsize = (8,5))\n",
        "sns.kdeplot(data = df.duration[df['type'] == 'Movie'] , shade=True)"
      ]
    },
    {
      "cell_type": "markdown",
      "metadata": {
        "id": "K7YLZ1ck74GZ"
      },
      "source": [
        "* Most content are about 70 to 120 min duration for movies"
      ]
    },
    {
      "cell_type": "markdown",
      "metadata": {
        "id": "55UJgPPc7bwy"
      },
      "source": [
        "* #### 4.10.7 Analysis on the duration of the TV-Shows"
      ]
    },
    {
      "cell_type": "code",
      "execution_count": null,
      "metadata": {
        "id": "5d2fWA_d7fkP"
      },
      "outputs": [],
      "source": [
        "df['type'].value_counts()"
      ]
    },
    {
      "cell_type": "code",
      "execution_count": null,
      "metadata": {
        "id": "hMJ1WtO37fgY"
      },
      "outputs": [],
      "source": [
        "sns.set(style=\"darkgrid\")\n",
        "plt.figure(figsize = (12,5))\n",
        "sns.kdeplot(data = df.duration[df['type'] == 'TV Show'] , shade=True)"
      ]
    },
    {
      "cell_type": "markdown",
      "metadata": {
        "id": "-b5sKZZUGVW6"
      },
      "source": [
        "### 4.11 **listed_in**"
      ]
    },
    {
      "cell_type": "markdown",
      "metadata": {
        "id": "m15D_RCFGk_6"
      },
      "source": [
        "* #### 4.11.1 How many unique values present in listed_in ??"
      ]
    },
    {
      "cell_type": "code",
      "execution_count": null,
      "metadata": {
        "id": "MldEtY_pGZyE"
      },
      "outputs": [],
      "source": [
        "df.listed_in.nunique()"
      ]
    },
    {
      "cell_type": "markdown",
      "metadata": {
        "id": "ZK8ekNscGgcT"
      },
      "source": [
        "There are all total 491 unique values present"
      ]
    },
    {
      "cell_type": "markdown",
      "metadata": {
        "id": "EeWbfwb-G0iY"
      },
      "source": [
        "* #### 4.11.2 How many NaN values present in *listed_in* ?"
      ]
    },
    {
      "cell_type": "code",
      "execution_count": null,
      "metadata": {
        "id": "UTZMtKHiG1G9"
      },
      "outputs": [],
      "source": [
        "df.listed_in.isna().sum()"
      ]
    },
    {
      "cell_type": "markdown",
      "metadata": {
        "id": "EUIa2mRXHAuh"
      },
      "source": [
        "There is no NaN values present"
      ]
    },
    {
      "cell_type": "markdown",
      "metadata": {
        "id": "vM9_K803Gr6f"
      },
      "source": [
        "* #### 4.11.2 Value_counts()"
      ]
    },
    {
      "cell_type": "code",
      "execution_count": null,
      "metadata": {
        "id": "5VsIMBGuGxCc"
      },
      "outputs": [],
      "source": [
        "df.listed_in.value_counts().to_frame().T"
      ]
    },
    {
      "cell_type": "markdown",
      "metadata": {
        "id": "Z_1czbpjIj3A"
      },
      "source": [
        "* #### 4.11.3 Making **Categories**"
      ]
    },
    {
      "cell_type": "code",
      "execution_count": null,
      "metadata": {
        "id": "j-RQeXZJHf9F"
      },
      "outputs": [],
      "source": [
        "categories = \", \".join(df['listed_in']).split(\", \")\n",
        "categories[:5]"
      ]
    },
    {
      "cell_type": "code",
      "execution_count": null,
      "metadata": {
        "id": "TWTwZi66HlqR"
      },
      "outputs": [],
      "source": [
        "len(categories)"
      ]
    },
    {
      "cell_type": "code",
      "execution_count": null,
      "metadata": {
        "id": "mj50Q-aEHofO"
      },
      "outputs": [],
      "source": [
        "len(set(categories))"
      ]
    },
    {
      "cell_type": "markdown",
      "metadata": {
        "id": "4I5Eqcn5IFVb"
      },
      "source": [
        "There are **42 unique categories**  present & in this dataset **all the categories occured in total 17051 times**"
      ]
    },
    {
      "cell_type": "markdown",
      "metadata": {
        "id": "LHBTw8Q0N5ig"
      },
      "source": [
        "Creating a dictionary **( *category_wise_count* )** where for each category there will be a value which basically tells us how many times that particular category occured"
      ]
    },
    {
      "cell_type": "code",
      "execution_count": null,
      "metadata": {
        "id": "N-r1fsiPKCCA"
      },
      "outputs": [],
      "source": [
        "category_wise_count = {}\n",
        "for category in set(categories):\n",
        "  category_wise_count[category] = categories.count(category)"
      ]
    },
    {
      "cell_type": "code",
      "execution_count": null,
      "metadata": {
        "id": "XV4UUwNjKSRy"
      },
      "outputs": [],
      "source": [
        "category_wise_count"
      ]
    },
    {
      "cell_type": "markdown",
      "metadata": {
        "id": "x6drMdlZQprs"
      },
      "source": [
        "* Sorting *category_wise_count* by value"
      ]
    },
    {
      "cell_type": "code",
      "execution_count": null,
      "metadata": {
        "id": "1cUbkf8mRsTo"
      },
      "outputs": [],
      "source": [
        "sorted_category_wise_count = sorted(category_wise_count.items(), key=lambda x: x[1])\n",
        "sorted_category_wise_count[:4]"
      ]
    },
    {
      "cell_type": "markdown",
      "metadata": {
        "id": "GAWhjwjiTadC"
      },
      "source": [
        "* Top 5 least occurred category"
      ]
    },
    {
      "cell_type": "code",
      "execution_count": null,
      "metadata": {
        "id": "w2qi01MyTKu1"
      },
      "outputs": [],
      "source": [
        "sorted_category_wise_count[:5]"
      ]
    },
    {
      "cell_type": "markdown",
      "metadata": {
        "id": "CmrKf197TVjq"
      },
      "source": [
        "* Top 5 most occurred category "
      ]
    },
    {
      "cell_type": "code",
      "execution_count": null,
      "metadata": {
        "id": "ZBe-T_qGTN86"
      },
      "outputs": [],
      "source": [
        "sorted_category_wise_count[-5:]"
      ]
    },
    {
      "cell_type": "markdown",
      "metadata": {
        "id": "yO08y96NTy5A"
      },
      "source": [
        "* Top 10 most occurred categories "
      ]
    },
    {
      "cell_type": "code",
      "execution_count": null,
      "metadata": {
        "id": "_S04a0eXTeNP"
      },
      "outputs": [],
      "source": [
        " top_10_most_occurred_categories = sorted_category_wise_count[-10:]"
      ]
    },
    {
      "cell_type": "code",
      "execution_count": null,
      "metadata": {
        "id": "ON5u6i2lUEnu"
      },
      "outputs": [],
      "source": [
        "top_10_most_occurred_categories"
      ]
    },
    {
      "cell_type": "code",
      "execution_count": null,
      "metadata": {
        "id": "lj3-L_bMUEjW"
      },
      "outputs": [],
      "source": [
        "top_10_most_occurred_category_name = []\n",
        "top_10_most_occurred_category_count = []\n",
        "for tup in top_10_most_occurred_categories:\n",
        "  top_10_most_occurred_category_name.append(tup[0])\n",
        "  top_10_most_occurred_category_count.append(tup[1])"
      ]
    },
    {
      "cell_type": "code",
      "execution_count": null,
      "metadata": {
        "id": "OA73zfInUWDC"
      },
      "outputs": [],
      "source": [
        "top_10_most_occurred_category_name"
      ]
    },
    {
      "cell_type": "code",
      "execution_count": null,
      "metadata": {
        "id": "DvI5xZtyUbRa"
      },
      "outputs": [],
      "source": [
        "top_10_most_occurred_category_count"
      ]
    },
    {
      "cell_type": "markdown",
      "metadata": {
        "id": "YZ9t5ttoYg2s"
      },
      "source": [
        "* #### 4.11.4 **TOP 10 Most Occurred Category By Count**"
      ]
    },
    {
      "cell_type": "code",
      "execution_count": null,
      "metadata": {
        "id": "IpQs0eVjKgxi"
      },
      "outputs": [],
      "source": [
        "plt.figure( figsize = (16,8))\n",
        "color=['lightpink', 'violet', 'green', 'blue', 'cyan' , \"lightblue\" ,'red', 'pink', 'yellow', 'orange']\n",
        "plt.barh(top_10_most_occurred_category_name , top_10_most_occurred_category_count ,\n",
        "        color= color)\n",
        "plt.title(\"Top 10 Most Popular Categories\",fontsize = 19)\n",
        "plt.xlabel(\"Count\", fontsize = 14 )\n",
        "plt.ylabel(\"Category Name\" , fontsize = 14 )\n",
        "plt.figure( figsize = (16,8))"
      ]
    },
    {
      "cell_type": "markdown",
      "metadata": {
        "id": "nT1lyXak0bkH"
      },
      "source": [
        "* #### 4.11.5 Creating a new column **no_of_category**"
      ]
    },
    {
      "cell_type": "markdown",
      "metadata": {
        "id": "O2obADyhzE97"
      },
      "source": [
        "* Datatype of listed_in values"
      ]
    },
    {
      "cell_type": "code",
      "execution_count": null,
      "metadata": {
        "id": "LEdXq751yoII"
      },
      "outputs": [],
      "source": [
        "type(df.listed_in.iloc[0])"
      ]
    },
    {
      "cell_type": "code",
      "execution_count": null,
      "metadata": {
        "id": "Ff7pkziozWIG"
      },
      "outputs": [],
      "source": [
        "(df.listed_in.iloc[0])"
      ]
    },
    {
      "cell_type": "code",
      "execution_count": null,
      "metadata": {
        "id": "L4HHJr2YzWEF"
      },
      "outputs": [],
      "source": [
        "(df.listed_in.iloc[0]).split(\",\")"
      ]
    },
    {
      "cell_type": "code",
      "execution_count": null,
      "metadata": {
        "id": "k524PpHvzeOz"
      },
      "outputs": [],
      "source": [
        "len((df.listed_in.iloc[0]).split(\",\"))"
      ]
    },
    {
      "cell_type": "code",
      "execution_count": null,
      "metadata": {
        "id": "Y6aPYhjczSAW"
      },
      "outputs": [],
      "source": [
        "no_of_category = []\n",
        "for categories in df.listed_in.values:\n",
        "  len_categories = len(categories.split(\",\"))\n",
        "  no_of_category.append(len_categories)"
      ]
    },
    {
      "cell_type": "code",
      "execution_count": null,
      "metadata": {
        "id": "PtJ1jmHq0j3a"
      },
      "outputs": [],
      "source": [
        "df['no_of_category'] = no_of_category"
      ]
    },
    {
      "cell_type": "code",
      "execution_count": null,
      "metadata": {
        "id": "C-53wUTw0nfL"
      },
      "outputs": [],
      "source": [
        "df[['listed_in' , 'no_of_category']].head()"
      ]
    },
    {
      "cell_type": "markdown",
      "metadata": {
        "id": "2wc3T1hyyfRc"
      },
      "source": [
        "* #### 4.11.6 Histogram of *no_of_category* using *listed_in*"
      ]
    },
    {
      "cell_type": "code",
      "execution_count": null,
      "metadata": {
        "id": "vGE4EK1V2No9"
      },
      "outputs": [],
      "source": [
        "df.no_of_category.unique()"
      ]
    },
    {
      "cell_type": "code",
      "execution_count": null,
      "metadata": {
        "id": "LLMHWyA32RNz"
      },
      "outputs": [],
      "source": [
        "df.no_of_category.value_counts()"
      ]
    },
    {
      "cell_type": "code",
      "execution_count": null,
      "metadata": {
        "id": "_BBH6uYW2nD4"
      },
      "outputs": [],
      "source": [
        "sns.set(style=\"darkgrid\")\n",
        "plt.figure(figsize = (8,5))\n",
        "plt.hist(df.no_of_category , bins=[1,2,3,4] , range = (1 ,4) , rwidth = 0.85, color ='lightblue')\n",
        "plt.xlabel(\"No of categories\")\n",
        "plt.ylabel(\"Count\")"
      ]
    },
    {
      "cell_type": "markdown",
      "metadata": {
        "id": "Pmji8Uhx623k"
      },
      "source": [
        "* ### 4.12 Creating a new column **date_added_month** using *date_added* column"
      ]
    },
    {
      "cell_type": "code",
      "execution_count": null,
      "metadata": {
        "id": "he4D9Onb7F4d"
      },
      "outputs": [],
      "source": [
        "df.date_added.head(3)"
      ]
    },
    {
      "cell_type": "code",
      "execution_count": null,
      "metadata": {
        "id": "89h-KYZ_CKlF"
      },
      "outputs": [],
      "source": [
        "df['date_added_month'] = df['date_added'].apply(lambda x: x.split(\" \")[0])\n",
        "df[['date_added' , 'date_added_month']].head()"
      ]
    },
    {
      "cell_type": "code",
      "source": [
        "month_df=df['date_added_month'].value_counts().reset_index()\n",
        "month_df.rename(columns={'index': 'Month_Name'}, inplace=True)\n",
        "month_df.rename(columns={'month': 'Count'}, inplace=True)\n",
        "ab = month_df.loc[0:11]\n",
        "ab"
      ],
      "metadata": {
        "id": "2YlrFysg8xrm"
      },
      "execution_count": null,
      "outputs": []
    },
    {
      "cell_type": "code",
      "source": [
        "month_names = ab.Month_Name.values\n",
        "month_wise_count = ab.date_added_month.values"
      ],
      "metadata": {
        "id": "ol_rWTFF9MQU"
      },
      "execution_count": null,
      "outputs": []
    },
    {
      "cell_type": "code",
      "source": [
        "plt.figure(figsize = (12 ,8 ))\n",
        "plt.bar(month_names , month_wise_count, width = 0.91)\n",
        "plt.title(\"Month wise content barplot\" , fontsize = 19)\n",
        "plt.xlabel(\"Month\" , fontsize = 15)\n",
        "plt.ylabel(\"Count\" , fontsize = 15)"
      ],
      "metadata": {
        "id": "xIgM9_Xy9nAc"
      },
      "execution_count": null,
      "outputs": []
    },
    {
      "cell_type": "markdown",
      "source": [
        "* We can say that December is the holiday season and it also has Christmas, so in that month most of the content got uploaded.\n"
      ],
      "metadata": {
        "id": "L5U8KZPcB4hC"
      }
    },
    {
      "cell_type": "code",
      "execution_count": null,
      "metadata": {
        "id": "xjP-edpZC19V"
      },
      "outputs": [],
      "source": [
        "df.date_added_month.value_counts().to_frame().T"
      ]
    },
    {
      "cell_type": "markdown",
      "metadata": {
        "id": "K6Ne6dyUuEe7"
      },
      "source": [
        "* ### 4.13 **show_id**"
      ]
    },
    {
      "cell_type": "code",
      "execution_count": null,
      "metadata": {
        "id": "WrXDa24JvEDm"
      },
      "outputs": [],
      "source": [
        "df.columns"
      ]
    },
    {
      "cell_type": "markdown",
      "metadata": {
        "id": "zrHVzo7MulPx"
      },
      "source": [
        "* #### 4.13.1 Checking NaN values"
      ]
    },
    {
      "cell_type": "code",
      "execution_count": null,
      "metadata": {
        "id": "B3Ul-X6nvGAQ"
      },
      "outputs": [],
      "source": [
        "df.show_id.isna().sum()"
      ]
    },
    {
      "cell_type": "markdown",
      "metadata": {
        "id": "50ULECZpvJyM"
      },
      "source": [
        "There is no NaN value present in show_id"
      ]
    },
    {
      "cell_type": "markdown",
      "metadata": {
        "id": "haiiheplulMB"
      },
      "source": [
        "* #### 4.13.2 Using *value_counts()*"
      ]
    },
    {
      "cell_type": "code",
      "execution_count": null,
      "metadata": {
        "id": "fHk7PPUmvOCv"
      },
      "outputs": [],
      "source": [
        "df.show_id.value_counts()"
      ]
    },
    {
      "cell_type": "code",
      "execution_count": null,
      "metadata": {
        "id": "g5PE4PU6vVjl"
      },
      "outputs": [],
      "source": [
        "df.shape[0]"
      ]
    },
    {
      "cell_type": "markdown",
      "metadata": {
        "id": "krOK2YGjvXef"
      },
      "source": [
        "All the *show_id* is **unique**"
      ]
    },
    {
      "cell_type": "markdown",
      "metadata": {
        "id": "4xo3Cc_8ulJl"
      },
      "source": [
        "* #### 4.13.3 Checking datatype"
      ]
    },
    {
      "cell_type": "code",
      "execution_count": null,
      "metadata": {
        "id": "n1Aosx-CvszZ"
      },
      "outputs": [],
      "source": [
        "type(df.show_id.iloc[0])"
      ]
    },
    {
      "cell_type": "code",
      "execution_count": null,
      "metadata": {
        "id": "Y6Aq8WlswL_S"
      },
      "outputs": [],
      "source": [
        "df.rating.value_counts()"
      ]
    },
    {
      "cell_type": "markdown",
      "metadata": {
        "id": "YbYTyDyUukpd"
      },
      "source": [
        "* #### 4.13.4 Most popular *TV-Shows Rating* "
      ]
    },
    {
      "cell_type": "code",
      "execution_count": null,
      "metadata": {
        "id": "5p9EXqY1wW36"
      },
      "outputs": [],
      "source": [
        "df['type'].unique()"
      ]
    },
    {
      "cell_type": "code",
      "execution_count": null,
      "metadata": {
        "id": "FW6ak5hzwSlN"
      },
      "outputs": [],
      "source": [
        "df_tv_show = df[df['type']== 'TV Show' ]\n",
        "df_tv_show.head(2)"
      ]
    },
    {
      "cell_type": "code",
      "execution_count": null,
      "metadata": {
        "id": "wkjGJA9-9bLk"
      },
      "outputs": [],
      "source": [
        "#Pointplot on top tv show ratings \n",
        "tv_ratings = df_tv_show.groupby(['rating'])['show_id'].count().reset_index(name = 'count').sort_values(by = 'count', ascending = False)\n",
        "fig_dims = (7,4)\n",
        "fig, ax = plt.subplots(figsize=fig_dims)  \n",
        "sns.pointplot(x='rating',y='count',data=tv_ratings)\n",
        "plt.title('Top TV Show Ratings Based On Rating System',size='15')\n",
        "plt.show()"
      ]
    },
    {
      "cell_type": "markdown",
      "metadata": {
        "id": "mCInJq9ivAn0"
      },
      "source": [
        "* #### 4.13.5 Most popular *Movies Rating* "
      ]
    },
    {
      "cell_type": "code",
      "execution_count": null,
      "metadata": {
        "id": "8dCp9WUK_FQf"
      },
      "outputs": [],
      "source": [
        "df_movies = df[df['type'] == 'Movie' ]\n",
        "df_movies.head(2)"
      ]
    },
    {
      "cell_type": "code",
      "execution_count": null,
      "metadata": {
        "id": "z6UumUWE_FMo"
      },
      "outputs": [],
      "source": [
        "#Pointplot on top tv show ratings \n",
        "tv_ratings = df_movies.groupby(['rating'])['show_id'].count().reset_index(name = 'count').sort_values(by = 'count', ascending = False)\n",
        "fig_dims = (10,6)\n",
        "fig, ax = plt.subplots(figsize=fig_dims)  \n",
        "sns.pointplot(x='rating',y='count',data=tv_ratings)\n",
        "plt.title('Top Movie Ratings Based On Rating System',size='20')\n",
        "plt.show()"
      ]
    },
    {
      "cell_type": "markdown",
      "metadata": {
        "id": "HqA-LVHOxulK"
      },
      "source": [
        "Most of the contents got ratings like\n",
        "* TV-MA (For Mature Audiences)\n",
        "* TV-14 ( May be unsuitable for children under 14 )\n",
        "* TV-PG ( Parental Guidance Suggested  )\n",
        "* NR ( Not Rated )\n"
      ]
    },
    {
      "cell_type": "markdown",
      "metadata": {
        "id": "XRYqMAKhExRT"
      },
      "source": [
        "## <font size=\"+2\" color='#154085'><b>5. Data Prepreation *(nlp data)*"
      ]
    },
    {
      "cell_type": "markdown",
      "metadata": {
        "id": "APM_K5pN8Yvo"
      },
      "source": [
        "### 5.1 **description**"
      ]
    },
    {
      "cell_type": "code",
      "execution_count": null,
      "metadata": {
        "id": "RxvFuI3M8Pw5"
      },
      "outputs": [],
      "source": [
        "df.columns"
      ]
    },
    {
      "cell_type": "code",
      "execution_count": null,
      "metadata": {
        "id": "NeHGdjkQ8R7h"
      },
      "outputs": [],
      "source": [
        "df.description.iloc[0]"
      ]
    },
    {
      "cell_type": "code",
      "execution_count": null,
      "metadata": {
        "id": "4TsEq81M_fFS"
      },
      "outputs": [],
      "source": [
        "First_des = df.description.iloc[0]\n",
        "First_des"
      ]
    },
    {
      "cell_type": "markdown",
      "metadata": {
        "id": "vXXgupGj9LOc"
      },
      "source": [
        "* #### 5.1.1 Importing necessary libraries"
      ]
    },
    {
      "cell_type": "code",
      "execution_count": null,
      "metadata": {
        "id": "fBOYgZwn9WYi"
      },
      "outputs": [],
      "source": [
        "from sklearn import preprocessing\n",
        "from sklearn.feature_extraction.text import CountVectorizer, TfidfVectorizer\n",
        "from sklearn.model_selection import train_test_split, KFold\n",
        "from nltk.corpus import stopwords\n",
        "from nltk.stem.snowball import SnowballStemmer"
      ]
    },
    {
      "cell_type": "markdown",
      "metadata": {
        "id": "Q2NReh5K9lnU"
      },
      "source": [
        "* **Download nltk**"
      ]
    },
    {
      "cell_type": "code",
      "source": [],
      "metadata": {
        "id": "_zWbWKY_RuP6"
      },
      "execution_count": null,
      "outputs": []
    },
    {
      "cell_type": "code",
      "execution_count": null,
      "metadata": {
        "colab": {
          "base_uri": "https://localhost:8080/"
        },
        "id": "8hQlzPNm9aIR",
        "outputId": "e869ad45-698e-4461-cf1e-7e07930f0411"
      },
      "outputs": [
        {
          "output_type": "stream",
          "name": "stdout",
          "text": [
            "NLTK Downloader\n",
            "---------------------------------------------------------------------------\n",
            "    d) Download   l) List    u) Update   c) Config   h) Help   q) Quit\n",
            "---------------------------------------------------------------------------\n"
          ]
        }
      ],
      "source": [
        "import nltk \n",
        "nltk.download()"
      ]
    },
    {
      "cell_type": "markdown",
      "metadata": {
        "id": "1p9mx5B193lM"
      },
      "source": [
        "* #### <b>5.1.2 Removing punctuations"
      ]
    },
    {
      "cell_type": "code",
      "execution_count": null,
      "metadata": {
        "id": "N4B68C3u99xg"
      },
      "outputs": [],
      "source": [
        "def remove_punctuation(text):\n",
        "    '''a function for removing punctuation'''\n",
        "    import string\n",
        "    # replacing the punctuations with no space, \n",
        "    # which in effect deletes the punctuation marks \n",
        "    translator = str.maketrans('', '', string.punctuation)\n",
        "    # return the text stripped of punctuation marks\n",
        "    return text.translate(translator)"
      ]
    },
    {
      "cell_type": "code",
      "execution_count": null,
      "metadata": {
        "id": "X9f1pLMX_Yig"
      },
      "outputs": [],
      "source": [
        "df['description'] = df['description'].apply(remove_punctuation)\n",
        "df.head()"
      ]
    },
    {
      "cell_type": "markdown",
      "metadata": {
        "id": "PkCmPe8UAIrS"
      },
      "source": [
        "* #### <b> 5.1.3 Removing stopwords"
      ]
    },
    {
      "cell_type": "code",
      "execution_count": null,
      "metadata": {
        "id": "SO9vFS_-ASGL"
      },
      "outputs": [],
      "source": [
        "import nltk\n",
        "nltk.download('stopwords')"
      ]
    },
    {
      "cell_type": "code",
      "execution_count": null,
      "metadata": {
        "id": "d-pYkm0oAT4P"
      },
      "outputs": [],
      "source": [
        "# extracting the stopwords from nltk library\n",
        "sw = nltk.corpus.stopwords.words('english')\n",
        "# displaying the stopwords\n",
        "for i in sw:\n",
        "  print(i , end=',  ')"
      ]
    },
    {
      "cell_type": "code",
      "execution_count": null,
      "metadata": {
        "id": "oFgxZicKAX8D"
      },
      "outputs": [],
      "source": [
        "print(\"Number of stopwords in english : \", len(sw))"
      ]
    },
    {
      "cell_type": "code",
      "execution_count": null,
      "metadata": {
        "id": "2SqcTupdAcB8"
      },
      "outputs": [],
      "source": [
        "def remove_stopwords(text):\n",
        "    '''a function for removing the stopword'''\n",
        "    # removing the stop words and lowercasing the selected words\n",
        "    #Method 1\n",
        "    text1 = [word.lower() for word in text.split() if word.lower() not in sw]\n",
        "    # joining the list of words with space separator\n",
        "    return \" \".join(text1)"
      ]
    },
    {
      "cell_type": "code",
      "execution_count": null,
      "metadata": {
        "id": "NfkhSswdCMcr"
      },
      "outputs": [],
      "source": [
        "df['description'] = df['description'].apply( remove_stopwords )\n",
        "df.head()"
      ]
    },
    {
      "cell_type": "markdown",
      "metadata": {
        "id": "CajZwUewCvF3"
      },
      "source": [
        "Now all the values of description are punctutation free ans stopword free"
      ]
    },
    {
      "cell_type": "markdown",
      "metadata": {
        "id": "1LBR_h3TC7Oa"
      },
      "source": [
        "* #### 5.1.4 Using **CountVectorizer()** to count vocabulary items"
      ]
    },
    {
      "cell_type": "code",
      "execution_count": null,
      "metadata": {
        "id": "5vqd8ZnuDDL3"
      },
      "outputs": [],
      "source": [
        "# Create a count vectorizer object\n",
        "count_vectorizer = CountVectorizer()\n",
        "# fit the count vectorizer using the text data\n",
        "count_vectorizer.fit(df['description'])\n",
        "# Collect the vocabulary items used in the vectorizer\n",
        "dictionary = count_vectorizer.vocabulary_.items()"
      ]
    },
    {
      "cell_type": "code",
      "execution_count": null,
      "metadata": {
        "id": "RFGZ7OOuDNzY"
      },
      "outputs": [],
      "source": [
        "dictionary"
      ]
    },
    {
      "cell_type": "code",
      "execution_count": null,
      "metadata": {
        "id": "6cd3f5L8Db0e"
      },
      "outputs": [],
      "source": [
        "vocab = [ ]\n",
        "count_of_vocab = []\n",
        "for key , value in dictionary:\n",
        "  vocab.append( key )\n",
        "  count_of_vocab.append( value )"
      ]
    },
    {
      "cell_type": "markdown",
      "metadata": {
        "id": "_chBWH_PENWX"
      },
      "source": [
        "* Creating a new *DataFrame* **vocab_before_stemming**"
      ]
    },
    {
      "cell_type": "code",
      "execution_count": null,
      "metadata": {
        "id": "rVGzZ-xlER6o"
      },
      "outputs": [],
      "source": [
        "# Store the count in panadas dataframe with vocab as index\n",
        "vocab_before_stemming = pd.DataFrame({\"Word\": vocab ,\n",
        "                                      \"count\" :count_of_vocab})\n",
        "# Sort the dataframe\n",
        "vocab_before_stemming = vocab_before_stemming.sort_values(\"count\" ,ascending=False)"
      ]
    },
    {
      "cell_type": "code",
      "execution_count": null,
      "metadata": {
        "id": "lQmRrShtE4nH"
      },
      "outputs": [],
      "source": [
        "vocab_before_stemming.head(4)"
      ]
    },
    {
      "cell_type": "code",
      "execution_count": null,
      "metadata": {
        "id": "Njvt0TVmI9Gm"
      },
      "outputs": [],
      "source": [
        "vocab_before_stemming.head(20).T"
      ]
    },
    {
      "cell_type": "code",
      "execution_count": null,
      "metadata": {
        "id": "p0spMBJEFBsH"
      },
      "outputs": [],
      "source": [
        "vocab_before_stemming.tail(4)"
      ]
    },
    {
      "cell_type": "markdown",
      "metadata": {
        "id": "p8xLwj4JGhNS"
      },
      "source": [
        "* TOP 10 most occurred words"
      ]
    },
    {
      "cell_type": "code",
      "execution_count": null,
      "metadata": {
        "id": "IypTeEiwGkq3"
      },
      "outputs": [],
      "source": [
        "top15_most_ocurred_vacab = vocab_before_stemming.head(15)"
      ]
    },
    {
      "cell_type": "code",
      "execution_count": null,
      "metadata": {
        "id": "qZxkH3QMHzhO"
      },
      "outputs": [],
      "source": [
        "top15_most_occurred_words = top15_most_ocurred_vacab.Word.values \n",
        "top15_most_occurred_words"
      ]
    },
    {
      "cell_type": "code",
      "execution_count": null,
      "metadata": {
        "id": "W8a8KhAyH7dt"
      },
      "outputs": [],
      "source": [
        "top15_most_occurred_words_count = top15_most_ocurred_vacab['count'].values \n",
        "top15_most_occurred_words_count"
      ]
    },
    {
      "cell_type": "code",
      "execution_count": null,
      "metadata": {
        "id": "rJxxssQ2IHIa"
      },
      "outputs": [],
      "source": [
        "plt.figure( figsize = ( 16,6 ))\n",
        "plt.xlim(19550, 19600)\n",
        "plt.barh(top15_most_occurred_words , top15_most_occurred_words_count )"
      ]
    },
    {
      "cell_type": "markdown",
      "metadata": {
        "id": "ClN2_Q_hKBsG"
      },
      "source": [
        "* #### 5.1.5 Now will use **SnowballStemmer( 'english' )**"
      ]
    },
    {
      "cell_type": "code",
      "execution_count": null,
      "metadata": {
        "id": "lc5UDvVRKSm5"
      },
      "outputs": [],
      "source": [
        "# Create an object of stemming function\n",
        "stemmer = SnowballStemmer(\"english\")"
      ]
    },
    {
      "cell_type": "code",
      "execution_count": null,
      "metadata": {
        "id": "GiCBDwRnKLkl"
      },
      "outputs": [],
      "source": [
        "def Apply_stemming(text):    \n",
        "    '''a function which stems each word in the given text'''\n",
        "    text = [stemmer.stem(word) for word in text.split()]\n",
        "    return \" \".join(text) "
      ]
    },
    {
      "cell_type": "code",
      "execution_count": null,
      "metadata": {
        "id": "ZLkY0xN4KanQ"
      },
      "outputs": [],
      "source": [
        "#Stemming for description\n",
        "df['description'] = df['description'].apply( Apply_stemming )\n",
        "df.head()"
      ]
    },
    {
      "cell_type": "markdown",
      "metadata": {
        "id": "SeriPl_sKl2A"
      },
      "source": [
        "* #### 5.1.6 Now again will use **TfidfVectorizer** *(after stemming)*"
      ]
    },
    {
      "cell_type": "code",
      "execution_count": null,
      "metadata": {
        "id": "78DaVhk3KuKL"
      },
      "outputs": [],
      "source": [
        "# Create the object of tfid vectorizer\n",
        "tfid_vectorizer = TfidfVectorizer()\n",
        "\n",
        "# Fit the vectorizer using the text data\n",
        "tfid_vectorizer.fit(df['description'])\n",
        "\n",
        "# Collect the vocabulary items used in the vectorizer\n",
        "dictionary = tfid_vectorizer.vocabulary_.items()"
      ]
    },
    {
      "cell_type": "code",
      "execution_count": null,
      "metadata": {
        "id": "uOgK9svDLK-s"
      },
      "outputs": [],
      "source": [
        "# Lists to store the vocab and counts\n",
        "vocab = []\n",
        "count_of_vocab = []\n",
        "# Iterate through each vocab and count append the value to designated lists\n",
        "for key, value in dictionary:\n",
        "    vocab.append(key)\n",
        "    count_of_vocab.append(value)"
      ]
    },
    {
      "cell_type": "markdown",
      "metadata": {
        "id": "-G_ksZBcLhwh"
      },
      "source": [
        "* Creating a new *DataFrame* **vocab_after_stemming**"
      ]
    },
    {
      "cell_type": "code",
      "execution_count": null,
      "metadata": {
        "id": "natYzOYzLbE8"
      },
      "outputs": [],
      "source": [
        "# Store the count in panadas dataframe with vocab as index\n",
        "vocab_after_stemming = pd.DataFrame({\"Word\": vocab ,\n",
        "                                      \"count\" :count_of_vocab})\n",
        "# Sort the dataframe\n",
        "vocab_after_stemming = vocab_after_stemming.sort_values(\"count\" ,ascending=False)"
      ]
    },
    {
      "cell_type": "code",
      "execution_count": null,
      "metadata": {
        "id": "JANSMFQnL6_q"
      },
      "outputs": [],
      "source": [
        "top15_most_ocurred_vocab = vocab_after_stemming.head(15)"
      ]
    },
    {
      "cell_type": "code",
      "execution_count": null,
      "metadata": {
        "id": "Pl-G-PpqL-g6"
      },
      "outputs": [],
      "source": [
        "top15_most_occurred_words = top15_most_ocurred_vocab.Word.values \n",
        "top15_most_occurred_words"
      ]
    },
    {
      "cell_type": "code",
      "execution_count": null,
      "metadata": {
        "id": "qt8Hn5NDL69B"
      },
      "outputs": [],
      "source": [
        "top15_most_occurred_words_count = top15_most_ocurred_vocab['count'].values \n",
        "top15_most_occurred_words_count"
      ]
    },
    {
      "cell_type": "code",
      "execution_count": null,
      "metadata": {
        "id": "IiWAoigGL66N"
      },
      "outputs": [],
      "source": [
        "plt.figure( figsize = ( 16,6 ))\n",
        "plt.xlim(14225, 14241)\n",
        "plt.barh(top15_most_occurred_words , top15_most_occurred_words_count )"
      ]
    },
    {
      "cell_type": "markdown",
      "metadata": {
        "id": "tgU4_iXFNHTr"
      },
      "source": [
        "* #### 5.1.7 Adding a new column **length** which will contain length of description"
      ]
    },
    {
      "cell_type": "code",
      "execution_count": null,
      "metadata": {
        "id": "VH315H5mNVQ0"
      },
      "outputs": [],
      "source": [
        "df['Length(description)'] = df['description'].apply(lambda x: len(x))"
      ]
    },
    {
      "cell_type": "code",
      "execution_count": null,
      "metadata": {
        "id": "TyHjYs65Nddi"
      },
      "outputs": [],
      "source": [
        "df.head(3)"
      ]
    },
    {
      "cell_type": "code",
      "execution_count": null,
      "metadata": {
        "id": "v7mbUfooNhQO"
      },
      "outputs": [],
      "source": [
        "df.description.iloc[0]"
      ]
    },
    {
      "cell_type": "code",
      "execution_count": null,
      "metadata": {
        "id": "AlRdsN7sNkaM"
      },
      "outputs": [],
      "source": [
        "len(df.description.iloc[0])"
      ]
    },
    {
      "cell_type": "markdown",
      "metadata": {
        "id": "kywAd8sEN4nr"
      },
      "source": [
        "* ### 5.2 **listed_in**"
      ]
    },
    {
      "cell_type": "markdown",
      "metadata": {
        "id": "YVFczhLON98g"
      },
      "source": [
        "* #### 5.2.1 Removing punctutations"
      ]
    },
    {
      "cell_type": "code",
      "execution_count": null,
      "metadata": {
        "id": "Vxis3XLMOIr6"
      },
      "outputs": [],
      "source": [
        "df.columns"
      ]
    },
    {
      "cell_type": "code",
      "execution_count": null,
      "metadata": {
        "id": "AsjwmmU9OHBF"
      },
      "outputs": [],
      "source": [
        "df['listed_in'] = df['listed_in'].apply(remove_punctuation)\n",
        "df.head()"
      ]
    },
    {
      "cell_type": "markdown",
      "metadata": {
        "id": "nKY4rnoVOWBO"
      },
      "source": [
        "* #### 5.2.2 Removing stopwords"
      ]
    },
    {
      "cell_type": "code",
      "execution_count": null,
      "metadata": {
        "id": "ukMcdLWJOWbr"
      },
      "outputs": [],
      "source": [
        "#Remove stopwords for listed_in\n",
        "df['listed_in'] = df['listed_in'].apply( remove_stopwords )\n",
        "df.head( 2 )"
      ]
    },
    {
      "cell_type": "markdown",
      "metadata": {
        "id": "Y7WhR1MHOwJ2"
      },
      "source": [
        "* #### 5.2.3 Using **CountVectorizer()** to count vocabulary items"
      ]
    },
    {
      "cell_type": "code",
      "execution_count": null,
      "metadata": {
        "id": "NThHZGMXO0un"
      },
      "outputs": [],
      "source": [
        "# Create a count vectorizer object\n",
        "count_vectorizer = CountVectorizer()\n",
        "# fit the count vectorizer using the text data\n",
        "count_vectorizer.fit(df['listed_in'])\n",
        "# Collect the vocabulary items used in the vectorizer\n",
        "dictionary = count_vectorizer.vocabulary_.items()"
      ]
    },
    {
      "cell_type": "code",
      "execution_count": null,
      "metadata": {
        "id": "CQRI-spTO5E_"
      },
      "outputs": [],
      "source": [
        "dictionary"
      ]
    },
    {
      "cell_type": "code",
      "execution_count": null,
      "metadata": {
        "id": "ZAiAGAz0O48k"
      },
      "outputs": [],
      "source": [
        "vocab = [ ]\n",
        "count_of_vocab = []\n",
        "for key , value in dictionary:\n",
        "  vocab.append( key )\n",
        "  count_of_vocab.append( value )"
      ]
    },
    {
      "cell_type": "code",
      "execution_count": null,
      "metadata": {
        "id": "qDktmlUtPIyd"
      },
      "outputs": [],
      "source": [
        "listed_in_vocab_before_stem = pd.DataFrame({\"Word\": vocab , \"count\" :count_of_vocab})\n",
        "\n",
        "listed_in_vocab_before_stem = listed_in_vocab_before_stem.sort_values(\"count\" ,ascending=False)"
      ]
    },
    {
      "cell_type": "code",
      "execution_count": null,
      "metadata": {
        "id": "dRwMyA0uPgXb"
      },
      "outputs": [],
      "source": [
        "listed_in_vocab_before_stem.head()"
      ]
    },
    {
      "cell_type": "code",
      "execution_count": null,
      "metadata": {
        "id": "UiOWZDX3Pjaw"
      },
      "outputs": [],
      "source": [
        "listed_in_vocab_before_stem.tail()"
      ]
    },
    {
      "cell_type": "markdown",
      "metadata": {
        "id": "a_DAlx8PPrZu"
      },
      "source": [
        "* TOP 10 most occurred words in listed in"
      ]
    },
    {
      "cell_type": "code",
      "execution_count": null,
      "metadata": {
        "id": "qkF-7G7FPlxT"
      },
      "outputs": [],
      "source": [
        "top15_most_ocurred_vocab_listed_in = listed_in_vocab_before_stem.head(15)"
      ]
    },
    {
      "cell_type": "code",
      "execution_count": null,
      "metadata": {
        "id": "gyi8qBFFP0qW"
      },
      "outputs": [],
      "source": [
        "top15_most_ocurred_words_listed_in = top15_most_ocurred_vocab_listed_in.Word.values \n",
        "top15_most_ocurred_words_listed_in"
      ]
    },
    {
      "cell_type": "code",
      "execution_count": null,
      "metadata": {
        "id": "BqLAcfWaP0aE"
      },
      "outputs": [],
      "source": [
        "top15_most_occurred_words_in_listed_in_count = top15_most_ocurred_vocab_listed_in['count'].values \n",
        "top15_most_occurred_words_in_listed_in_count"
      ]
    },
    {
      "cell_type": "code",
      "execution_count": null,
      "metadata": {
        "id": "qvTpJ-fHP0XX"
      },
      "outputs": [],
      "source": [
        "plt.figure( figsize = ( 10,6 ))\n",
        "plt.xlim(25, 42 )\n",
        "plt.barh(top15_most_ocurred_words_listed_in , top15_most_occurred_words_in_listed_in_count )"
      ]
    },
    {
      "cell_type": "markdown",
      "metadata": {
        "id": "jvV_PyKTQvh-"
      },
      "source": [
        "* #### 5.2.4 Now will use **SnowballStemmer( 'english' )**"
      ]
    },
    {
      "cell_type": "code",
      "execution_count": null,
      "metadata": {
        "id": "Yfmp_s_FP0Ui"
      },
      "outputs": [],
      "source": [
        "#Stemming for description\n",
        "df['listed_in'] = df['listed_in'].apply( Apply_stemming )\n",
        "df.head(3)"
      ]
    },
    {
      "cell_type": "markdown",
      "metadata": {
        "id": "TK9Yg0jnQ8--"
      },
      "source": [
        "* #### 5.2.5 Now will use **TfidfVectorizer** *(after stemming)*"
      ]
    },
    {
      "cell_type": "code",
      "execution_count": null,
      "metadata": {
        "id": "Wx8xX79DP0R7"
      },
      "outputs": [],
      "source": [
        "# Create the object of tfid vectorizer\n",
        "tfid_vectorizer = TfidfVectorizer()\n",
        "\n",
        "# Fit the vectorizer using the text data\n",
        "tfid_vectorizer.fit(df['listed_in'])\n",
        "\n",
        "# Collect the vocabulary items used in the vectorizer\n",
        "dictionary = tfid_vectorizer.vocabulary_.items()"
      ]
    },
    {
      "cell_type": "code",
      "execution_count": null,
      "metadata": {
        "id": "JDt4Km3oSD-x"
      },
      "outputs": [],
      "source": [
        "dictionary"
      ]
    },
    {
      "cell_type": "code",
      "execution_count": null,
      "metadata": {
        "id": "aRVcUrBGRDx_"
      },
      "outputs": [],
      "source": [
        "# Lists to store the vocab and counts\n",
        "vocab = []\n",
        "count_of_vocab = []\n",
        "# Iterate through each vocab and count append the value to designated lists\n",
        "for key, value in dictionary:\n",
        "    vocab.append(key)\n",
        "    count_of_vocab.append(value)"
      ]
    },
    {
      "cell_type": "markdown",
      "metadata": {
        "id": "r_4phns2RIXs"
      },
      "source": [
        "* Creating a new *DataFrame* **vocab_after_stemming_listed_in**"
      ]
    },
    {
      "cell_type": "code",
      "execution_count": null,
      "metadata": {
        "id": "0LRInvJ_RLTV"
      },
      "outputs": [],
      "source": [
        "vocab_after_stemming_listed_in = pd.DataFrame({\"Word\": vocab , \"count\" :count_of_vocab})\n",
        "# Sort the dataframe by count\n",
        "vocab_after_stemming_listed_in = vocab_after_stemming_listed_in.sort_values(\"count\" ,ascending=False)"
      ]
    },
    {
      "cell_type": "code",
      "execution_count": null,
      "metadata": {
        "id": "Tum3gga9RnKm"
      },
      "outputs": [],
      "source": [
        "top15_most_ocurred_vocab_lised_in_after_stem = vocab_after_stemming_listed_in.head(15)"
      ]
    },
    {
      "cell_type": "code",
      "execution_count": null,
      "metadata": {
        "id": "bo71I6pPRVy9"
      },
      "outputs": [],
      "source": [
        "top15_most_ocurred_vocab_lised_in_after_stem_word = top15_most_ocurred_vocab_lised_in_after_stem.Word.values \n",
        "top15_most_ocurred_vocab_lised_in_after_stem_word"
      ]
    },
    {
      "cell_type": "code",
      "execution_count": null,
      "metadata": {
        "id": "I9eAOtezSPCl"
      },
      "outputs": [],
      "source": [
        "top15_most_occurred_words_listed_in_count = top15_most_ocurred_vocab_lised_in_after_stem['count'].values \n",
        "top15_most_occurred_words_listed_in_count"
      ]
    },
    {
      "cell_type": "markdown",
      "metadata": {
        "id": "O1XQwCk2RWFV"
      },
      "source": [
        "* Plot of the top vocab present in listed_in (after stemming) "
      ]
    },
    {
      "cell_type": "code",
      "execution_count": null,
      "metadata": {
        "id": "LPXq6zTmSZQR"
      },
      "outputs": [],
      "source": [
        "plt.figure( figsize = ( 10,6 ))\n",
        "plt.xlim(25, 40 )\n",
        "plt.barh(top15_most_ocurred_vocab_lised_in_after_stem_word , top15_most_occurred_words_listed_in_count )"
      ]
    },
    {
      "cell_type": "markdown",
      "metadata": {
        "id": "_S15BI4zS89h"
      },
      "source": [
        "* #### 5.2.6 Adding a new column **length( listed-in )** which will contain length of listed_in"
      ]
    },
    {
      "cell_type": "code",
      "execution_count": null,
      "metadata": {
        "id": "GIjQIIAKS8ng"
      },
      "outputs": [],
      "source": [
        "df['Length(listed-in)'] = df['listed_in'].apply(lambda x: len(x))\n",
        "df.head(3)"
      ]
    },
    {
      "cell_type": "code",
      "execution_count": null,
      "metadata": {
        "id": "1jXvNt02TeN6"
      },
      "outputs": [],
      "source": [
        "df.columns"
      ]
    },
    {
      "cell_type": "code",
      "execution_count": null,
      "metadata": {
        "id": "dNwZusJeTc06"
      },
      "outputs": [],
      "source": [
        "df[['description', 'Length(description)', 'listed_in' ,'Length(listed-in)' ]].head(3)"
      ]
    },
    {
      "cell_type": "markdown",
      "metadata": {
        "id": "JcmWwQGIA2gG"
      },
      "source": [
        "* ## <b>6. Applying Different Clustering Algorithms"
      ]
    },
    {
      "cell_type": "markdown",
      "metadata": {
        "id": "LYkjI1kGBWwk"
      },
      "source": [
        "<b><u>Clustering</b></u>: -<br>\n",
        "Clustering can be considered the most important unsupervised learning problem; so, as every other problem of this kind, it deals with finding a structure in a collection of unlabeled data.A loose definition of clustering could be “the process of organizing objects into groups whose members are similar in some way”.A cluster is therefore a collection of objects which are “similar” between them and are “dissimilar” to the objects belonging to other clusters."
      ]
    },
    {
      "cell_type": "markdown",
      "metadata": {
        "id": "aiei5DIGBmwd"
      },
      "source": [
        "![Clustering.png](data:image/png;base64,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)"
      ]
    },
    {
      "cell_type": "markdown",
      "metadata": {
        "id": "lxKLXw6UCyQC"
      },
      "source": [
        "* ## <b>Five*(5)* Clustering algo I have used\n",
        "* ### <b>1. Silhouette score\n",
        "* ### <b> 2. Elbow Method\n",
        "* ### <b>3. DBSCAN\n",
        "* ### <b>4. Dendrogram\n",
        "* ### <b> 5. AgglomerativeClustering"
      ]
    },
    {
      "cell_type": "markdown",
      "metadata": {
        "id": "DfTKUWeTD4aJ"
      },
      "source": [
        "* ### <b>6.1 Silhouette score"
      ]
    },
    {
      "cell_type": "code",
      "execution_count": null,
      "metadata": {
        "id": "FPqU_FeNFeAP"
      },
      "outputs": [],
      "source": [
        "df.columns"
      ]
    },
    {
      "cell_type": "code",
      "execution_count": null,
      "metadata": {
        "id": "jjIJUIFeShG3"
      },
      "outputs": [],
      "source": [
        "X_features_rec = df[['no_of_category' ,'Length(description)','Length(listed-in)']]\n",
        "stdscaler = preprocessing.StandardScaler()"
      ]
    },
    {
      "cell_type": "code",
      "execution_count": null,
      "metadata": {
        "id": "McdQF31jSiMM"
      },
      "outputs": [],
      "source": [
        "X_features_rec.describe()"
      ]
    },
    {
      "cell_type": "code",
      "execution_count": null,
      "metadata": {
        "id": "3J9PPMdpJok-"
      },
      "outputs": [],
      "source": [
        "X_rescale=stdscaler.fit_transform(X_features_rec)\n",
        "X=X_rescale\n",
        "silhouette_score_ = [  ]\n",
        "range_n_clusters = [i for i in range(2,16)]"
      ]
    },
    {
      "cell_type": "code",
      "execution_count": null,
      "metadata": {
        "id": "mQV5VBAWFHMw"
      },
      "outputs": [],
      "source": [
        "for n_clusters in range_n_clusters:\n",
        "    clusterer = KMeans(n_clusters=n_clusters)\n",
        "    preds = clusterer.fit_predict(X)\n",
        "    centers = clusterer.cluster_centers_\n",
        "\n",
        "    score = silhouette_score(X, preds)\n",
        "    silhouette_score_.append([int(n_clusters) , round(score , 3)])\n",
        "    print(\"For n_clusters = {}, silhouette score is {}\".format(n_clusters, score))"
      ]
    },
    {
      "cell_type": "code",
      "execution_count": null,
      "metadata": {
        "id": "Ptt9VJJXENM4"
      },
      "outputs": [],
      "source": [
        "temp = pd.DataFrame(silhouette_score_ , columns = [\"n clusters\" , \"silhouette score\"])\n",
        "temp = temp.sort_values( \"silhouette score\" , ascending = False )\n",
        "temp.head(14)"
      ]
    },
    {
      "cell_type": "markdown",
      "metadata": {
        "id": "Rzh92kbuHGnO"
      },
      "source": [
        "* <b>NOTE :-</b><br>\n",
        "The value of the silhouette coefﬁcient is between [-1, 1]. **A score of 1 denotes the best meaning that the data point i is very compact within the cluster** to which it belongs and far away from the other clusters. *The worst value is -1*. Values near 0 denote overlapping clusters"
      ]
    },
    {
      "cell_type": "code",
      "execution_count": null,
      "metadata": {
        "id": "h_9PunrKGrah"
      },
      "outputs": [],
      "source": [
        "\n",
        "range_n_clusters = [i for i in range(2,16)]\n",
        "\n",
        "for n_clusters in range_n_clusters:\n",
        "    # Create a subplot with 1 row and 2 columns\n",
        "    fig, (ax1, ax2) = plt.subplots(1, 2)\n",
        "    fig.set_size_inches(18, 7)\n",
        "\n",
        "    # The 1st subplot is the silhouette plot\n",
        "    # The silhouette coefficient can range from -1, 1 but in this example all\n",
        "    # lie within [-0.1, 1]\n",
        "    ax1.set_xlim([-0.1, 1])\n",
        "    # The (n_clusters+1)*10 is for inserting blank space between silhouette\n",
        "    # plots of individual clusters, to demarcate them clearly.\n",
        "    ax1.set_ylim([0, len(X) + (n_clusters + 1) * 10])\n",
        "\n",
        "    # Initialize the clusterer with n_clusters value and a random generator\n",
        "    # seed of 10 for reproducibility.\n",
        "    clusterer = KMeans(n_clusters=n_clusters, random_state=10)\n",
        "    cluster_labels = clusterer.fit_predict(X)\n",
        "\n",
        "    # The silhouette_score gives the average value for all the samples.\n",
        "    # This gives a perspective into the density and separation of the formed\n",
        "    # clusters\n",
        "    silhouette_avg = silhouette_score(X, cluster_labels)\n",
        "    print(\"For n_clusters =\", n_clusters,\n",
        "          \"The average silhouette_score is :\", silhouette_avg)\n",
        "\n",
        "    # Compute the silhouette scores for each sample\n",
        "    sample_silhouette_values = silhouette_samples(X, cluster_labels)\n",
        "\n",
        "    y_lower = 10\n",
        "    for i in range(n_clusters):\n",
        "        # Aggregate the silhouette scores for samples belonging to\n",
        "        # cluster i, and sort them\n",
        "        ith_cluster_silhouette_values = \\\n",
        "            sample_silhouette_values[cluster_labels == i]\n",
        "\n",
        "        ith_cluster_silhouette_values.sort()\n",
        "\n",
        "        size_cluster_i = ith_cluster_silhouette_values.shape[0]\n",
        "        y_upper = y_lower + size_cluster_i\n",
        "\n",
        "        color = cm.nipy_spectral(float(i) / n_clusters)\n",
        "        ax1.fill_betweenx(np.arange(y_lower, y_upper),\n",
        "                          0, ith_cluster_silhouette_values,\n",
        "                          facecolor=color, edgecolor=color, alpha=0.7)\n",
        "\n",
        "        # Label the silhouette plots with their cluster numbers at the middle\n",
        "        ax1.text(-0.05, y_lower + 0.5 * size_cluster_i, str(i))\n",
        "\n",
        "        # Compute the new y_lower for next plot\n",
        "        y_lower = y_upper + 10  # 10 for the 0 samples\n",
        "\n",
        "    ax1.set_title(\"The silhouette plot for the various clusters.\")\n",
        "    ax1.set_xlabel(\"The silhouette coefficient values\")\n",
        "    ax1.set_ylabel(\"Cluster label\")\n",
        "\n",
        "    # The vertical line for average silhouette score of all the values\n",
        "    ax1.axvline(x=silhouette_avg, color=\"red\", linestyle=\"--\")\n",
        "\n",
        "    ax1.set_yticks([])  # Clear the yaxis labels / ticks\n",
        "    ax1.set_xticks([-0.1, 0, 0.2, 0.4, 0.6, 0.8, 1])\n",
        "\n",
        "    # 2nd Plot showing the actual clusters formed\n",
        "    colors = cm.nipy_spectral(cluster_labels.astype(float) /n_clusters)\n",
        "    ax2.scatter(X[:, 0], X[:, 1], marker='.', s=30, lw=0, alpha=0.7,\n",
        "                c=colors, edgecolor='k')\n",
        "\n",
        "    # Labeling the clusters\n",
        "    centers = clusterer.cluster_centers_\n",
        "    # Draw white circles at cluster centers\n",
        "    ax2.scatter(centers[:, 0], centers[:, 1], marker='o',\n",
        "                c=\"white\", alpha=1, s=200, edgecolor='k')\n",
        "\n",
        "    for i, c in enumerate(centers):\n",
        "        ax2.scatter(c[0], c[1], marker='$%d$' % i, alpha=1,\n",
        "                    s=50, edgecolor='k')\n",
        "\n",
        "    ax2.set_title(\"The visualization of the clustered data.\")\n",
        "    ax2.set_xlabel(\"Feature space for the 1st feature\")\n",
        "    ax2.set_ylabel(\"Feature space for the 2nd feature\")\n",
        "    plt.suptitle((\"Silhouette analysis for KMeans clustering on sample data \"\n",
        "                  \"with n_clusters = %d\" % n_clusters),\n",
        "                 fontsize=14, fontweight='bold')\n",
        "\n",
        "plt.show()"
      ]
    },
    {
      "cell_type": "markdown",
      "metadata": {
        "id": "5IF24sjmJFmx"
      },
      "source": [
        "Silhouette score is used to evaluate the quality of clusters created using clustering algorithms such as K-Means in terms of how well samples are clustered with other samples that are similar to each other. The Silhouette score is calculated for each sample of different clusters. To calculate the Silhouette score for each observation/data point, the following distances need to be found out for each observations belonging to all the clusters:<br>\n",
        "* Mean distance between the observation and all other data points in the same cluster. This distance can also be called a mean intra-cluster distance. The mean distance is denoted by a.\n",
        "<br>\n",
        "* Mean distance between the observation and all other data points of the next nearest cluster. This distance can also be called a mean nearest-cluster distance. The mean distance is denoted by b.\n",
        "\n",
        "<br>The Silhouette Coefficient for a sample is $ S = \\frac{(b - a)}{max(a, b)}$."
      ]
    },
    {
      "cell_type": "markdown",
      "metadata": {
        "id": "pHjdB3n9JZGr"
      },
      "source": [
        "* ### <b> 6.2 Elbow Method"
      ]
    },
    {
      "cell_type": "code",
      "execution_count": null,
      "metadata": {
        "id": "_MXicXd1Ji9T"
      },
      "outputs": [],
      "source": [
        "sum_of_sq_dist = {}\n",
        "for k in range(1,15):\n",
        "    km = KMeans(n_clusters= k, init= 'k-means++', max_iter= 1000)\n",
        "    km = km.fit(X)\n",
        "    sum_of_sq_dist[k] = km.inertia_\n",
        "    \n",
        "#Plot the graph for the sum of square distance values and Number of Clusters\n",
        "sns.pointplot(x = list(sum_of_sq_dist.keys()), y = list(sum_of_sq_dist.values()))\n",
        "plt.xlabel('Number of Clusters(k)')\n",
        "plt.ylabel('Sum of Square Distances')\n",
        "plt.title('Elbow Method For Optimal k')\n",
        "plt.show()"
      ]
    },
    {
      "cell_type": "markdown",
      "metadata": {
        "id": "3AViEWd3KFm4"
      },
      "source": [
        "Will be using **3 clusters**"
      ]
    },
    {
      "cell_type": "code",
      "execution_count": null,
      "metadata": {
        "id": "u7SG7HfKKJJ8"
      },
      "outputs": [],
      "source": [
        "kmeans = KMeans(n_clusters = 3 )\n",
        "kmeans.fit(X)\n",
        "y_kmeans= kmeans.predict(X)"
      ]
    },
    {
      "cell_type": "code",
      "execution_count": null,
      "metadata": {
        "id": "eoREddJZKSF7"
      },
      "outputs": [],
      "source": [
        "plt.figure(figsize=(10 , 6))\n",
        "plt.title('description and listed_in')\n",
        "plt.scatter(X[:, 0], X[:, 1], c=y_kmeans, s=50, cmap='spring')\n",
        "\n",
        "centers = kmeans.cluster_centers_\n",
        "plt.scatter(centers[:, 0], centers[:, 1], c='red', s=200, alpha=0.5)"
      ]
    },
    {
      "cell_type": "markdown",
      "metadata": {
        "id": "0_kyojcmM3pk"
      },
      "source": [
        "* ### <b>6.3 DBSCAN"
      ]
    },
    {
      "cell_type": "code",
      "execution_count": null,
      "metadata": {
        "id": "omXuMIrFM9UB"
      },
      "outputs": [],
      "source": [
        "from sklearn.cluster import DBSCAN\n",
        "from sklearn import metrics\n",
        "y_pred = DBSCAN(eps=0.5, min_samples=15).fit_predict(X)\n",
        "plt.figure(figsize=( 8 , 5 ))\n",
        "plt.scatter(X[:,1], X[:,2], c=y_pred)"
      ]
    },
    {
      "cell_type": "markdown",
      "metadata": {
        "id": "jisdI_jBNJut"
      },
      "source": [
        "The black colour dots(*) are noise"
      ]
    },
    {
      "cell_type": "markdown",
      "metadata": {
        "id": "8XmTaACcNR0h"
      },
      "source": [
        "* ### <b> 6.4 Dendrogram"
      ]
    },
    {
      "cell_type": "code",
      "execution_count": null,
      "metadata": {
        "id": "ngb1BnexNcmA"
      },
      "outputs": [],
      "source": [
        "# Let's import sch\n",
        "import scipy.cluster.hierarchy as sch\n",
        "plt.figure(figsize=(13,8))\n",
        "dendrogram = sch.dendrogram(sch.linkage(X, method = 'single'))\n",
        "plt.title('Dendrogram')\n",
        "plt.xlabel('Content')\n",
        "plt.ylabel('Euclidean Distances')\n",
        "plt.show() # find largest vertical distance we can make without crossing any other horizontal line"
      ]
    },
    {
      "cell_type": "markdown",
      "metadata": {
        "id": "BL1YaIzNONjP"
      },
      "source": [
        "**The number of clusters will be the number of vertical lines which are being intersected by the line drawn using the threshold**\n",
        "\n",
        "**No. of Cluster = 3**"
      ]
    },
    {
      "cell_type": "markdown",
      "metadata": {
        "id": "_oCMWeq8OOlu"
      },
      "source": [
        "* ### <b> 6.5 AgglomerativeClustering"
      ]
    },
    {
      "cell_type": "code",
      "execution_count": null,
      "metadata": {
        "id": "msuoSMw3Od-M"
      },
      "outputs": [],
      "source": [
        "# Let's  import AgglomerativeClustering\n",
        "from sklearn.cluster import AgglomerativeClustering\n",
        "hc = AgglomerativeClustering(n_clusters = 2, affinity = 'euclidean', linkage = 'ward')\n",
        "y_hc = hc.fit_predict(X)"
      ]
    },
    {
      "cell_type": "code",
      "execution_count": null,
      "metadata": {
        "id": "mkaSqjb4Ooym"
      },
      "outputs": [],
      "source": [
        "# Visualizing the clusters (three dimensions only)\n",
        "plt.figure(figsize=(13,8))\n",
        "plt.scatter(X[y_hc == 0, 0], X[y_hc == 0, 1], s = 100, c = 'red', label = '1')\n",
        "plt.scatter(X[y_hc == 1, 0], X[y_hc == 1, 1], s = 100, c = 'blue', label = '2')\n",
        "# plt.scatter(X[y_hc == 2, 0], X[y_hc == 2, 1], s = 100, c = 'green', label = '3')\n",
        "\n",
        "plt.title('Clusters of content')\n",
        "\n",
        "plt.legend()\n",
        "plt.show()"
      ]
    },
    {
      "cell_type": "markdown",
      "metadata": {
        "id": "10Th00DnEd9D"
      },
      "source": [
        "## <font size='+2' color = '#154085'> <B>Conclusion</b>\n",
        "\n",
        "1. Director and cast contains a large number of null values so we will drop these 2 columns .\n",
        "2. In this dataset there are two types of contents where 30.86% includes TV shows and the\n",
        "remaining 69.14% carries Movies.\n",
        "\n",
        "3. We have reached a conclusion from our analysis from the content added over years that\n",
        "Netflix is focusing movies and TV shows (Fom 2016 data we get to know that Movies is\n",
        "increased by 80% and TV shows is increased by 73% compare)\n",
        "\n",
        "4. From the dataset insights we can conclude that the most number of TV Shows released in\n",
        "2017 and for Movies it is 2020\n",
        "\n",
        "5. On Netflix USA has the largest number of contents. And most of the countries preferred to\n",
        "produce movies more than TV shows.\n",
        "\n",
        "6. Most of the movies are belonging to 3 categories\n",
        "\n",
        "7. TOP 3 content categories are International movies , dramas , comedies.\n",
        "\n",
        "8. In text analysis (NLP) I used stop words, removed punctuations , stemming & TF-IDF\n",
        "vectorizer and other functions of NLP.\n",
        "\n",
        "9. Applied different clustering models like Kmeans, hierarchical, Agglomerative clustering,\n",
        "DBSCAN on data we got the best cluster arrangements.\n",
        "\n",
        "10. By applying different clustering algorithms to our dataset .we get the optimal number of\n",
        "cluster is equal to 3\n"
      ]
    },
    {
      "cell_type": "markdown",
      "source": [
        "## **Futue Scope**\n",
        "\n",
        "*   From this clustering analysis we can create Netflix movies and tv shows recommendation system & also we can use topic modeling. \n",
        "*   More Post Cluster Analysis\n",
        "\n",
        "*   Integrate Netflix dataset with other data set and present more insights and clusters.\n",
        "*   We could have done some research on recommendation system.\n",
        "\n",
        "\n"
      ],
      "metadata": {
        "id": "m-0GZgJDZyIT"
      }
    },
    {
      "cell_type": "markdown",
      "source": [
        "**Hurrah! You have successfully completed your Machine Learning Capstone Project !!!**"
      ],
      "metadata": {
        "id": "p6D92CrZYzKD"
      }
    },
    {
      "cell_type": "markdown",
      "source": [
        "![OIP.jpg](data:image/jpeg;base64,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)"
      ],
      "metadata": {
        "id": "10_aRX-Vc_IP"
      }
    }
  ],
  "metadata": {
    "colab": {
      "provenance": [],
      "include_colab_link": true
    },
    "kernelspec": {
      "display_name": "Python 3",
      "name": "python3"
    },
    "language_info": {
      "name": "python"
    }
  },
  "nbformat": 4,
  "nbformat_minor": 0
}